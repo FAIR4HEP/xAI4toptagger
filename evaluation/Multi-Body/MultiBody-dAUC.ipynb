{
 "cells": [
  {
   "cell_type": "code",
   "execution_count": 1,
   "id": "7444fec9",
   "metadata": {},
   "outputs": [],
   "source": [
    "import torch\n",
    "import numpy as np\n",
    "from torch.utils.data import DataLoader\n",
    "import matplotlib.pyplot as plt\n",
    "import pickle\n",
    "import pandas as pd\n",
    "import copy\n",
    "import torch.nn as nn\n",
    "import shap\n",
    "import seaborn as sns\n",
    "from sklearn.metrics import accuracy_score, roc_auc_score\n",
    "\n",
    "import sys\n",
    "sys.path.insert(1, '../../models/Multi-Body')\n",
    "from multidataset import MultiDataset\n",
    "from multimodel import Net as Model\n",
    "import json\n"
   ]
  },
  {
   "cell_type": "code",
   "execution_count": 2,
   "id": "ae492f2c",
   "metadata": {},
   "outputs": [
    {
     "data": {
      "text/plain": [
       "Net(\n",
       "  (_nn): Sequential(\n",
       "    (0): Sequential(\n",
       "      (0): Linear(in_features=22, out_features=200, bias=True)\n",
       "      (1): ReLU()\n",
       "      (2): Dropout(p=0.2, inplace=False)\n",
       "    )\n",
       "    (1): Sequential(\n",
       "      (0): Linear(in_features=200, out_features=200, bias=True)\n",
       "      (1): ReLU()\n",
       "      (2): Dropout(p=0.2, inplace=False)\n",
       "    )\n",
       "    (2): Sequential(\n",
       "      (0): Linear(in_features=200, out_features=50, bias=True)\n",
       "      (1): ReLU()\n",
       "      (2): Dropout(p=0.1, inplace=False)\n",
       "    )\n",
       "    (3): Sequential(\n",
       "      (0): Linear(in_features=50, out_features=50, bias=True)\n",
       "      (1): ReLU()\n",
       "      (2): Dropout(p=0.1, inplace=False)\n",
       "    )\n",
       "    (4): Sequential(\n",
       "      (0): Linear(in_features=50, out_features=2, bias=True)\n",
       "      (1): Identity()\n",
       "      (2): Identity()\n",
       "    )\n",
       "  )\n",
       "  (softmax): Softmax(dim=1)\n",
       ")"
      ]
     },
     "execution_count": 2,
     "metadata": {},
     "output_type": "execute_result"
    }
   ],
   "source": [
    "#Parameters to change, can change model_type to 'best' or 'last'\n",
    "modelname = 'MultiBody8-Subjettiness_massTrue_ptTrue_best_baseline'\n",
    "#modelname = 'MultiBody8-Subjettiness_massTrue_ptTrue_best_tau_x_1'\n",
    "model_dict = json.load(open('../../models/Multi-Body/trained_model_dicts/' + modelname.replace(\"_best\", \"\") + \".json\"))\n",
    "use_jet_pt = model_dict['use_pt']\n",
    "use_jet_mass = model_dict['use_mass']\n",
    "tau_x_1 = model_dict['tau_x_1']\n",
    "N = model_dict['N']\n",
    "extra_name = model_dict['label']\n",
    "hidden = list(map(int, model_dict['nodes'].split(',')))\n",
    "# use_jet_pt = True\n",
    "# use_jet_mass = True\n",
    "# tau_x_1 = False\n",
    "# N = 8\n",
    "# extra_name = ''\n",
    "\n",
    "model_type = 'best'\n",
    "if extra_name != '' and not extra_name.startswith('_'):\n",
    "    extra_name = '_' + extra_name\n",
    "if tau_x_1 and 'tau_x_1' not in extra_name:\n",
    "    extra_name += '_tau_x_1'\n",
    "\n",
    "\n",
    "## if hidden = [200, 200, 50], uncomment the following 3 lines\n",
    "# hidden = [200,200,50]\n",
    "# extra_name = '_no_fourth_layer'\n",
    "# tau_x_1 = False\n",
    "\n",
    "#Testing path\n",
    "test_path = '../../datasets/n-subjettiness_data/test_all.npy'\n",
    "\n",
    "#model path\n",
    "model_path = '../../models/Multi-Body/trained_models/MultiBody' + str(N) + '-Subjettiness_mass' +str(use_jet_mass)+\\\n",
    "             '_pt'+str(use_jet_pt)+'_'+ model_type + extra_name\n",
    "\n",
    "#loading model\n",
    "model = Model(N, use_jet_pt, use_jet_mass, tau_x_1, hidden).cuda()\n",
    "model.load_state_dict(torch.load(model_path))\n",
    "model.eval()"
   ]
  },
  {
   "cell_type": "code",
   "execution_count": 3,
   "id": "b4da09c5",
   "metadata": {},
   "outputs": [],
   "source": [
    "#Loading testing dataset\n",
    "test_set = MultiDataset(test_path, N, use_jet_pt, use_jet_mass, tau_x_1)\n",
    "feat_names = []\n",
    "if not tau_x_1:\n",
    "    for i in range(N-1):\n",
    "        if i != N-2:\n",
    "            feat_names.append('tau_'+str(i+1)+'_'+str(0.5))\n",
    "            feat_names.append('tau_'+str(i+1)+'_'+str(1))\n",
    "            feat_names.append('tau_'+str(i+1)+'_'+str(2))\n",
    "        else:\n",
    "            feat_names.append('tau_'+str(i+1)+'_'+str(1))\n",
    "            feat_names.append('tau_'+str(i+1)+'_'+str(2))\n",
    "    if use_jet_pt:\n",
    "        feat_names.append('jet_pt')\n",
    "    if use_jet_mass:\n",
    "        feat_names.append('jet_mass')\n",
    "else:\n",
    "    for i in range(N-1):\n",
    "        feat_names.append('tau_'+str(i+1)+'_'+str(1))\n",
    "    if use_jet_pt:\n",
    "        feat_names.append('jet_pt')\n",
    "    if use_jet_mass:\n",
    "        feat_names.append('jet_mass')\n",
    "layer_names = ['dense1', 'relu', 'dropout2', 'dense2', 'relu', 'dropout2', 'dense3', 'relu', \n",
    "              'dropout1', 'dense4', 'relu', 'dropout1', 'dense5', 'softmax']\n",
    "data,labels = test_set[:]\n",
    "full_data = np.concatenate((data,labels),axis=1)\n",
    "df_test = pd.DataFrame(full_data, columns=np.append(feat_names, ['background_prob', 'signal_prob']))\n",
    "feats = df_test.drop(columns=['background_prob', 'signal_prob'])\n",
    "means = np.array(df_test.mean(0))"
   ]
  },
  {
   "cell_type": "code",
   "execution_count": 9,
   "id": "54233256",
   "metadata": {},
   "outputs": [],
   "source": [
    "def eval2(model, mask_index = -1, mask_mode = 'mean'):\n",
    "    data = np.copy(feats)\n",
    "    if mask_index >= 0 and mask_index < len(feat_names):\n",
    "        if mask_mode == 'mean':\n",
    "            data[:, mask_index] = means[mask_index]\n",
    "        else:\n",
    "            data[:, mask_index] = 0.\n",
    "    data = torch.tensor(data, dtype = torch.float32).cuda()\n",
    "    \n",
    "    with torch.no_grad():\n",
    "        model.eval()\n",
    "        data = model._nn.forward(data)\n",
    "        presoftmax = data.cpu().numpy()\n",
    "        data = model.softmax(data)\n",
    "        result = data.cpu().numpy()\n",
    "\n",
    "    \n",
    "    return presoftmax, result\n",
    "\n",
    "def dAUC_chart(dAUC_vals, tags, tag, save=False):\n",
    "    tag = \"baseline\" if tag == \"\" else tag.strip('_')\n",
    "    dAUC_vals = dAUC_vals[::-1]\n",
    "    tags = tags[::-1]\n",
    "    pos = np.arange(len(dAUC_vals))\n",
    "    plt.figure(figsize=(5,5))\n",
    "    plt.barh(pos, dAUC_vals, align='center')\n",
    "    plt.yticks(pos, tags, fontsize = 16)\n",
    "    plt.xlabel('Percent Drop in AUC', fontsize=16)\n",
    "    plt.ylabel('Feature', fontsize=16)\n",
    "    plt.tick_params(axis='x', which='major', labelsize=16)\n",
    "    plt.tick_params(axis='y', which='major', labelsize=18)\n",
    "    plt.tight_layout()\n",
    "    if save:\n",
    "        plt.savefig(\"figures/dAUC_MB8S_{}.png\".format(tag))\n",
    "    plt.show()"
   ]
  },
  {
   "cell_type": "code",
   "execution_count": 5,
   "id": "39f879fb",
   "metadata": {},
   "outputs": [
    {
     "name": "stdout",
     "output_type": "stream",
     "text": [
      "Baseline model's AUC: 97.9779%\n"
     ]
    }
   ],
   "source": [
    "baseline_presoftmax, baseline_results = eval2(model)\n",
    "auc_baseline = roc_auc_score(labels[:, 0], baseline_results[:, 0])*100\n",
    "print(\"Baseline model's AUC: {:.4f}%\".format(auc_baseline))"
   ]
  },
  {
   "cell_type": "code",
   "execution_count": 6,
   "id": "8b44d672",
   "metadata": {},
   "outputs": [],
   "source": [
    "dresult_presoftmax = []\n",
    "dresult = []\n",
    "dAUC_vals = []\n",
    "for fid, feat in enumerate(feat_names):\n",
    "    this_presoftmax, this_results = eval2(model, mask_index = fid, mask_mode='mean')\n",
    "    dresult_presoftmax.append((this_presoftmax - baseline_presoftmax)/baseline_presoftmax)\n",
    "    dresult.append(this_results - baseline_results)\n",
    "    this_auc = roc_auc_score(labels[:,0], this_results[:,0])*100\n",
    "    dAUC_vals.append(auc_baseline - this_auc)"
   ]
  },
  {
   "cell_type": "code",
   "execution_count": 7,
   "id": "cbfdcd9f-2bb0-4dae-a467-1454338b9382",
   "metadata": {},
   "outputs": [],
   "source": [
    "tag_labels = []\n",
    "for feat in feat_names:\n",
    "    if feat == 'jet_pt':\n",
    "        tag_labels.append('$p_{T,J}$')\n",
    "    elif feat == 'jet_mass':\n",
    "        tag_labels.append('$m_J$')\n",
    "    else:\n",
    "        x, y = feat.split('_')[1], feat.split('_')[2]\n",
    "        tag_labels.append(r'$\\tau_' + x + '^{' + y + '}$')"
   ]
  },
  {
   "cell_type": "code",
   "execution_count": 10,
   "id": "b3785e49",
   "metadata": {},
   "outputs": [
    {
     "name": "stdout",
     "output_type": "stream",
     "text": [
      "ptmass_baseline\n"
     ]
    },
    {
     "data": {
      "image/png": "[encoded data removed]",
      "text/plain": [
       "<Figure size 360x360 with 1 Axes>"
      ]
     },
     "metadata": {
      "needs_background": "light"
     },
     "output_type": "display_data"
    }
   ],
   "source": [
    "sorted_tags = []\n",
    "sorted_vals = []\n",
    "for val, tag in sorted(zip(dAUC_vals, tag_labels), reverse = True)[:10]:\n",
    "    sorted_tags.append(tag)\n",
    "    sorted_vals.append(val)\n",
    "    \n",
    "tag = ('pt' if use_jet_pt else '') + ('mass' if use_jet_mass else '') + ('_' + extra_name.strip('_') if extra_name else '')\n",
    "print(tag)\n",
    "dAUC_chart(sorted_vals, sorted_tags, tag=tag, save=True)"
   ]
  },
  {
   "cell_type": "code",
   "execution_count": 21,
   "id": "7e2a7ab4",
   "metadata": {},
   "outputs": [],
   "source": [
    "def removeOutliers(x, outlierConstant=1.5):\n",
    "    quantiles = np.nanquantile(x, (0.25, 0.75),axis=0)\n",
    "    IQR = (quantiles[1]-quantiles[0])*1.5\n",
    "    result = np.where((x>=quantiles[0]-IQR)&(x<=quantiles[1]+IQR), x, 0)\n",
    "    \n",
    "    return result\n",
    "\n",
    "def plotmaker(data, tags, plot_type = 'abs_bar', part_dataset = 'bkg', save = False, modelnamesuffix = \"\"):\n",
    "    modelnamesuffix = 'baseline' if not modelnamesuffix else modelnamesuffix\n",
    "    if plot_type == 'abs_bar':\n",
    "        data_no_outlier = removeOutliers(data)\n",
    "        plt.figure(figsize=(5,5))\n",
    "        abs_data = np.nanmean(np.abs(data_no_outlier), 0) #Takes mean across all jets\n",
    "        df_rel = pd.DataFrame(dict(params=tags, rels=abs_data))\n",
    "        df_rel_sorted = df_rel.sort_values('rels') #Sorts relevance values\n",
    "        # creating the abs bar plot\n",
    "        max_display = 10\n",
    "        plt.barh('params', 'rels', data = df_rel_sorted.tail(max_display), color ='blue')\n",
    "        plt.tight_layout()\n",
    "        plt.xlabel(\"MAD Relevance Score\", fontsize=16)\n",
    "        plt.ylabel(\"Feature\", fontsize=16)\n",
    "        plt.tick_params(axis='x', which='major', labelsize=16)\n",
    "        plt.tick_params(axis='y', which='major', labelsize=18)\n",
    "        if part_dataset == 'bkg':\n",
    "            plt.text(0.4, 2, \"background\", fontsize=16, bbox=dict(boxstyle='Square', facecolor='white'))\n",
    "        if part_dataset == 'sig':\n",
    "            plt.text(0.4, 2, \"signal\", fontsize=16, bbox=dict(boxstyle='Square', facecolor='white'))\n",
    "        # plt.title(\"TopoDNN Absolute Value \"+type_set+\" Delta LRP values\")\n",
    "        if save:\n",
    "            plt.savefig(\"figures/dLRP_MB8S_{}_{}_absbar.png\".format(modelnamesuffix, part_dataset), \n",
    "                        dpi = 150, bbox_inches='tight')\n",
    "        plt.show()\n",
    "    if plot_type == 'box_whisker':\n",
    "        plt.figure(figsize=(10,10))\n",
    "        df_rel_total = pd.DataFrame(removeOutliers(data), columns=tags)\n",
    "        sorted_index = df_rel_total.abs().mean().sort_values(ascending=False).index\n",
    "        df_rel = pd.DataFrame(data, columns=tags)\n",
    "        df_rel_total = df_rel[sorted_index[:20]]\n",
    "        sns.boxplot(data=df_rel_total, orient='h', showfliers=False)\n",
    "        #plt.title(\"TopoDNN \"+type_set+\" LRP Box and Whisker Distribution\")\n",
    "        plt.tight_layout()\n",
    "        if save:\n",
    "            plt.savefig(\"figures/dLRP_MB8S_{}_{}_boxwhisker.png\".format(modelnamesuffix, part_dataset), \n",
    "                        dpi = 150, bbox_inches='tight')\n",
    "        plt.show()"
   ]
  },
  {
   "cell_type": "code",
   "execution_count": 12,
   "id": "40c1ddf9",
   "metadata": {},
   "outputs": [],
   "source": [
    "bkg_indices = labels[:,0] == 1\n",
    "sig_indices = labels[:,0] == 0\n",
    "dresult_presoftmax_bkg = []\n",
    "dresult_presoftmax_sig = []\n",
    "dresult_bkg = []\n",
    "dresult_sig = []\n",
    "for idx in range(len(feat_names)):\n",
    "    dresult_presoftmax_bkg.append(dresult_presoftmax[idx][bkg_indices][:,0])\n",
    "    dresult_presoftmax_sig.append(dresult_presoftmax[idx][sig_indices][:,1])\n",
    "    dresult_bkg.append(dresult[idx][bkg_indices][:,0])\n",
    "    dresult_sig.append(dresult[idx][sig_indices][:,1])"
   ]
  },
  {
   "cell_type": "code",
   "execution_count": 13,
   "id": "01d39c98",
   "metadata": {},
   "outputs": [],
   "source": [
    "dresult_presoftmax_bkg = np.transpose(np.array(dresult_presoftmax_bkg))\n",
    "dresult_presoftmax_sig = np.transpose(np.array(dresult_presoftmax_sig))\n",
    "dresult_bkg = np.transpose(np.array(dresult_bkg))\n",
    "dresult_sig = np.transpose(np.array(dresult_sig))"
   ]
  },
  {
   "cell_type": "code",
   "execution_count": 19,
   "id": "4d65acd3",
   "metadata": {},
   "outputs": [
    {
     "data": {
      "image/png": "[encoded data removed]",
      "text/plain": [
       "<Figure size 360x360 with 1 Axes>"
      ]
     },
     "metadata": {
      "needs_background": "light"
     },
     "output_type": "display_data"
    }
   ],
   "source": [
    "plotmaker(data = dresult_presoftmax_bkg, tags = tag_labels, \n",
    "          plot_type = 'abs_bar', part_dataset = 'bkg', \n",
    "          save = True if 'baseline' in extra_name else False, modelnamesuffix = tag)"
   ]
  },
  {
   "cell_type": "code",
   "execution_count": 22,
   "id": "16508f66",
   "metadata": {},
   "outputs": [
    {
     "data": {
      "image/png": "[encoded data removed]",
      "text/plain": [
       "<Figure size 360x360 with 1 Axes>"
      ]
     },
     "metadata": {
      "needs_background": "light"
     },
     "output_type": "display_data"
    }
   ],
   "source": [
    "plotmaker(data = dresult_presoftmax_sig, tags = tag_labels, \n",
    "          plot_type = 'abs_bar', part_dataset = 'sig', \n",
    "          save = True if 'baseline' in extra_name else False, modelnamesuffix = tag)"
   ]
  }
 ],
 "metadata": {
  "kernelspec": {
   "display_name": "Python [conda env:.conda-toptagger_env]",
   "language": "python",
   "name": "conda-env-.conda-toptagger_env-py"
  },
  "language_info": {
   "codemirror_mode": {
    "name": "ipython",
    "version": 3
   },
   "file_extension": ".py",
   "mimetype": "text/x-python",
   "name": "python",
   "nbconvert_exporter": "python",
   "pygments_lexer": "ipython3",
   "version": "3.9.12"
  }
 },
 "nbformat": 4,
 "nbformat_minor": 5
}
