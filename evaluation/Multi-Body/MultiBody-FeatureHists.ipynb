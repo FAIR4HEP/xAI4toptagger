{
 "cells": [
  {
   "cell_type": "code",
   "execution_count": 1,
   "id": "35648e6d",
   "metadata": {},
   "outputs": [
    {
     "name": "stdout",
     "output_type": "stream",
     "text": [
      "['tau_1_05', 'tau_1_10', 'tau_1_20', 'tau_2_05', 'tau_2_10', 'tau_2_20', 'tau_3_05', 'tau_3_10', 'tau_3_20', 'tau_4_05', 'tau_4_10', 'tau_4_20', 'tau_5_05', 'tau_5_10', 'tau_5_20', 'tau_6_05', 'tau_6_10', 'tau_6_20', 'tau_7_05', 'tau_7_10', 'tau_7_20', 'tau_8_05', 'tau_8_10', 'tau_8_20', 'pt', 'm', 'y']\n"
     ]
    }
   ],
   "source": [
    "import numpy as np\n",
    "import matplotlib.pyplot as plt\n",
    "import pandas as pd\n",
    "import seaborn as sns\n",
    "\n",
    "feats = ['tau_{}_{}'.format(n,b) for n in range(1,9) for b in ['05', '10', '20']] + ['pt', 'm','y']\n",
    "print(feats)"
   ]
  },
  {
   "cell_type": "code",
   "execution_count": 2,
   "id": "074259e1",
   "metadata": {},
   "outputs": [],
   "source": [
    "dataset = np.load(\"../../datasets/n-subjettiness_data/train_all.npy\")\n",
    "# inds_0 = dataset[:,-1]==0\n",
    "# inds_1 = dataset[:,-1]==1\n",
    "# data_0 = dataset[inds_0]\n",
    "# data_1 = dataset[inds_1]\n",
    "dataset = pd.DataFrame(dataset, columns = feats)\n",
    "dataset = dataset[0:20000]"
   ]
  },
  {
   "cell_type": "code",
   "execution_count": 3,
   "id": "588178d3",
   "metadata": {},
   "outputs": [
    {
     "ename": "FileNotFoundError",
     "evalue": "[Errno 2] No such file or directory: 'plots/jet_m.pdf'",
     "output_type": "error",
     "traceback": [
      "\u001b[0;31m---------------------------------------------------------------------------\u001b[0m",
      "\u001b[0;31mFileNotFoundError\u001b[0m                         Traceback (most recent call last)",
      "Input \u001b[0;32mIn [3]\u001b[0m, in \u001b[0;36m<cell line: 16>\u001b[0;34m()\u001b[0m\n\u001b[1;32m     14\u001b[0m plt\u001b[38;5;241m.\u001b[39mtick_params(axis\u001b[38;5;241m=\u001b[39m\u001b[38;5;124m'\u001b[39m\u001b[38;5;124mboth\u001b[39m\u001b[38;5;124m'\u001b[39m, which\u001b[38;5;241m=\u001b[39m\u001b[38;5;124m'\u001b[39m\u001b[38;5;124mmajor\u001b[39m\u001b[38;5;124m'\u001b[39m, labelsize\u001b[38;5;241m=\u001b[39m\u001b[38;5;241m20\u001b[39m)\n\u001b[1;32m     15\u001b[0m plt\u001b[38;5;241m.\u001b[39mtight_layout()\n\u001b[0;32m---> 16\u001b[0m \u001b[43mplt\u001b[49m\u001b[38;5;241;43m.\u001b[39;49m\u001b[43msavefig\u001b[49m\u001b[43m(\u001b[49m\u001b[38;5;124;43m\"\u001b[39;49m\u001b[38;5;124;43mplots/jet_m.pdf\u001b[39;49m\u001b[38;5;124;43m\"\u001b[39;49m\u001b[43m)\u001b[49m\n\u001b[1;32m     18\u001b[0m plt\u001b[38;5;241m.\u001b[39mfigure(figsize\u001b[38;5;241m=\u001b[39m(\u001b[38;5;241m8\u001b[39m,\u001b[38;5;241m8\u001b[39m))\n\u001b[1;32m     20\u001b[0m plt\u001b[38;5;241m.\u001b[39mhist(pts_1, bins \u001b[38;5;241m=\u001b[39m \u001b[38;5;241m50\u001b[39m, label \u001b[38;5;241m=\u001b[39m \u001b[38;5;124m'\u001b[39m\u001b[38;5;124msignal\u001b[39m\u001b[38;5;124m'\u001b[39m, alpha \u001b[38;5;241m=\u001b[39m \u001b[38;5;241m0.5\u001b[39m, color\u001b[38;5;241m=\u001b[39m\u001b[38;5;124m'\u001b[39m\u001b[38;5;124mblue\u001b[39m\u001b[38;5;124m'\u001b[39m)\n",
      "File \u001b[0;32m~/anaconda3/envs/toptagger_env/lib/python3.9/site-packages/matplotlib/pyplot.py:958\u001b[0m, in \u001b[0;36msavefig\u001b[0;34m(*args, **kwargs)\u001b[0m\n\u001b[1;32m    955\u001b[0m \u001b[38;5;129m@_copy_docstring_and_deprecators\u001b[39m(Figure\u001b[38;5;241m.\u001b[39msavefig)\n\u001b[1;32m    956\u001b[0m \u001b[38;5;28;01mdef\u001b[39;00m \u001b[38;5;21msavefig\u001b[39m(\u001b[38;5;241m*\u001b[39margs, \u001b[38;5;241m*\u001b[39m\u001b[38;5;241m*\u001b[39mkwargs):\n\u001b[1;32m    957\u001b[0m     fig \u001b[38;5;241m=\u001b[39m gcf()\n\u001b[0;32m--> 958\u001b[0m     res \u001b[38;5;241m=\u001b[39m \u001b[43mfig\u001b[49m\u001b[38;5;241;43m.\u001b[39;49m\u001b[43msavefig\u001b[49m\u001b[43m(\u001b[49m\u001b[38;5;241;43m*\u001b[39;49m\u001b[43margs\u001b[49m\u001b[43m,\u001b[49m\u001b[43m \u001b[49m\u001b[38;5;241;43m*\u001b[39;49m\u001b[38;5;241;43m*\u001b[39;49m\u001b[43mkwargs\u001b[49m\u001b[43m)\u001b[49m\n\u001b[1;32m    959\u001b[0m     fig\u001b[38;5;241m.\u001b[39mcanvas\u001b[38;5;241m.\u001b[39mdraw_idle()   \u001b[38;5;66;03m# need this if 'transparent=True' to reset colors\u001b[39;00m\n\u001b[1;32m    960\u001b[0m     \u001b[38;5;28;01mreturn\u001b[39;00m res\n",
      "File \u001b[0;32m~/anaconda3/envs/toptagger_env/lib/python3.9/site-packages/matplotlib/figure.py:3019\u001b[0m, in \u001b[0;36mFigure.savefig\u001b[0;34m(self, fname, transparent, **kwargs)\u001b[0m\n\u001b[1;32m   3015\u001b[0m     \u001b[38;5;28;01mfor\u001b[39;00m ax \u001b[38;5;129;01min\u001b[39;00m \u001b[38;5;28mself\u001b[39m\u001b[38;5;241m.\u001b[39maxes:\n\u001b[1;32m   3016\u001b[0m         stack\u001b[38;5;241m.\u001b[39menter_context(\n\u001b[1;32m   3017\u001b[0m             ax\u001b[38;5;241m.\u001b[39mpatch\u001b[38;5;241m.\u001b[39m_cm_set(facecolor\u001b[38;5;241m=\u001b[39m\u001b[38;5;124m'\u001b[39m\u001b[38;5;124mnone\u001b[39m\u001b[38;5;124m'\u001b[39m, edgecolor\u001b[38;5;241m=\u001b[39m\u001b[38;5;124m'\u001b[39m\u001b[38;5;124mnone\u001b[39m\u001b[38;5;124m'\u001b[39m))\n\u001b[0;32m-> 3019\u001b[0m \u001b[38;5;28;43mself\u001b[39;49m\u001b[38;5;241;43m.\u001b[39;49m\u001b[43mcanvas\u001b[49m\u001b[38;5;241;43m.\u001b[39;49m\u001b[43mprint_figure\u001b[49m\u001b[43m(\u001b[49m\u001b[43mfname\u001b[49m\u001b[43m,\u001b[49m\u001b[43m \u001b[49m\u001b[38;5;241;43m*\u001b[39;49m\u001b[38;5;241;43m*\u001b[39;49m\u001b[43mkwargs\u001b[49m\u001b[43m)\u001b[49m\n",
      "File \u001b[0;32m~/anaconda3/envs/toptagger_env/lib/python3.9/site-packages/matplotlib/backend_bases.py:2319\u001b[0m, in \u001b[0;36mFigureCanvasBase.print_figure\u001b[0;34m(self, filename, dpi, facecolor, edgecolor, orientation, format, bbox_inches, pad_inches, bbox_extra_artists, backend, **kwargs)\u001b[0m\n\u001b[1;32m   2315\u001b[0m \u001b[38;5;28;01mtry\u001b[39;00m:\n\u001b[1;32m   2316\u001b[0m     \u001b[38;5;66;03m# _get_renderer may change the figure dpi (as vector formats\u001b[39;00m\n\u001b[1;32m   2317\u001b[0m     \u001b[38;5;66;03m# force the figure dpi to 72), so we need to set it again here.\u001b[39;00m\n\u001b[1;32m   2318\u001b[0m     \u001b[38;5;28;01mwith\u001b[39;00m cbook\u001b[38;5;241m.\u001b[39m_setattr_cm(\u001b[38;5;28mself\u001b[39m\u001b[38;5;241m.\u001b[39mfigure, dpi\u001b[38;5;241m=\u001b[39mdpi):\n\u001b[0;32m-> 2319\u001b[0m         result \u001b[38;5;241m=\u001b[39m \u001b[43mprint_method\u001b[49m\u001b[43m(\u001b[49m\n\u001b[1;32m   2320\u001b[0m \u001b[43m            \u001b[49m\u001b[43mfilename\u001b[49m\u001b[43m,\u001b[49m\n\u001b[1;32m   2321\u001b[0m \u001b[43m            \u001b[49m\u001b[43mfacecolor\u001b[49m\u001b[38;5;241;43m=\u001b[39;49m\u001b[43mfacecolor\u001b[49m\u001b[43m,\u001b[49m\n\u001b[1;32m   2322\u001b[0m \u001b[43m            \u001b[49m\u001b[43medgecolor\u001b[49m\u001b[38;5;241;43m=\u001b[39;49m\u001b[43medgecolor\u001b[49m\u001b[43m,\u001b[49m\n\u001b[1;32m   2323\u001b[0m \u001b[43m            \u001b[49m\u001b[43morientation\u001b[49m\u001b[38;5;241;43m=\u001b[39;49m\u001b[43morientation\u001b[49m\u001b[43m,\u001b[49m\n\u001b[1;32m   2324\u001b[0m \u001b[43m            \u001b[49m\u001b[43mbbox_inches_restore\u001b[49m\u001b[38;5;241;43m=\u001b[39;49m\u001b[43m_bbox_inches_restore\u001b[49m\u001b[43m,\u001b[49m\n\u001b[1;32m   2325\u001b[0m \u001b[43m            \u001b[49m\u001b[38;5;241;43m*\u001b[39;49m\u001b[38;5;241;43m*\u001b[39;49m\u001b[43mkwargs\u001b[49m\u001b[43m)\u001b[49m\n\u001b[1;32m   2326\u001b[0m \u001b[38;5;28;01mfinally\u001b[39;00m:\n\u001b[1;32m   2327\u001b[0m     \u001b[38;5;28;01mif\u001b[39;00m bbox_inches \u001b[38;5;129;01mand\u001b[39;00m restore_bbox:\n",
      "File \u001b[0;32m~/anaconda3/envs/toptagger_env/lib/python3.9/site-packages/matplotlib/backend_bases.py:1648\u001b[0m, in \u001b[0;36m_check_savefig_extra_args.<locals>.wrapper\u001b[0;34m(*args, **kwargs)\u001b[0m\n\u001b[1;32m   1640\u001b[0m     _api\u001b[38;5;241m.\u001b[39mwarn_deprecated(\n\u001b[1;32m   1641\u001b[0m         \u001b[38;5;124m'\u001b[39m\u001b[38;5;124m3.3\u001b[39m\u001b[38;5;124m'\u001b[39m, name\u001b[38;5;241m=\u001b[39mname, removal\u001b[38;5;241m=\u001b[39m\u001b[38;5;124m'\u001b[39m\u001b[38;5;124m3.6\u001b[39m\u001b[38;5;124m'\u001b[39m,\n\u001b[1;32m   1642\u001b[0m         message\u001b[38;5;241m=\u001b[39m\u001b[38;5;124m'\u001b[39m\u001b[38;5;132;01m%(name)s\u001b[39;00m\u001b[38;5;124m() got unexpected keyword argument \u001b[39m\u001b[38;5;124m\"\u001b[39m\u001b[38;5;124m'\u001b[39m\n\u001b[1;32m   1643\u001b[0m                 \u001b[38;5;241m+\u001b[39m arg \u001b[38;5;241m+\u001b[39m \u001b[38;5;124m'\u001b[39m\u001b[38;5;124m\"\u001b[39m\u001b[38;5;124m which is no longer supported as of \u001b[39m\u001b[38;5;124m'\u001b[39m\n\u001b[1;32m   1644\u001b[0m                 \u001b[38;5;124m'\u001b[39m\u001b[38;5;132;01m%(since)s\u001b[39;00m\u001b[38;5;124m and will become an error \u001b[39m\u001b[38;5;124m'\u001b[39m\n\u001b[1;32m   1645\u001b[0m                 \u001b[38;5;124m'\u001b[39m\u001b[38;5;132;01m%(removal)s\u001b[39;00m\u001b[38;5;124m'\u001b[39m)\n\u001b[1;32m   1646\u001b[0m     kwargs\u001b[38;5;241m.\u001b[39mpop(arg)\n\u001b[0;32m-> 1648\u001b[0m \u001b[38;5;28;01mreturn\u001b[39;00m \u001b[43mfunc\u001b[49m\u001b[43m(\u001b[49m\u001b[38;5;241;43m*\u001b[39;49m\u001b[43margs\u001b[49m\u001b[43m,\u001b[49m\u001b[43m \u001b[49m\u001b[38;5;241;43m*\u001b[39;49m\u001b[38;5;241;43m*\u001b[39;49m\u001b[43mkwargs\u001b[49m\u001b[43m)\u001b[49m\n",
      "File \u001b[0;32m~/anaconda3/envs/toptagger_env/lib/python3.9/site-packages/matplotlib/_api/deprecation.py:386\u001b[0m, in \u001b[0;36mdelete_parameter.<locals>.wrapper\u001b[0;34m(*inner_args, **inner_kwargs)\u001b[0m\n\u001b[1;32m    381\u001b[0m \u001b[38;5;129m@functools\u001b[39m\u001b[38;5;241m.\u001b[39mwraps(func)\n\u001b[1;32m    382\u001b[0m \u001b[38;5;28;01mdef\u001b[39;00m \u001b[38;5;21mwrapper\u001b[39m(\u001b[38;5;241m*\u001b[39minner_args, \u001b[38;5;241m*\u001b[39m\u001b[38;5;241m*\u001b[39minner_kwargs):\n\u001b[1;32m    383\u001b[0m     \u001b[38;5;28;01mif\u001b[39;00m \u001b[38;5;28mlen\u001b[39m(inner_args) \u001b[38;5;241m<\u001b[39m\u001b[38;5;241m=\u001b[39m name_idx \u001b[38;5;129;01mand\u001b[39;00m name \u001b[38;5;129;01mnot\u001b[39;00m \u001b[38;5;129;01min\u001b[39;00m inner_kwargs:\n\u001b[1;32m    384\u001b[0m         \u001b[38;5;66;03m# Early return in the simple, non-deprecated case (much faster than\u001b[39;00m\n\u001b[1;32m    385\u001b[0m         \u001b[38;5;66;03m# calling bind()).\u001b[39;00m\n\u001b[0;32m--> 386\u001b[0m         \u001b[38;5;28;01mreturn\u001b[39;00m \u001b[43mfunc\u001b[49m\u001b[43m(\u001b[49m\u001b[38;5;241;43m*\u001b[39;49m\u001b[43minner_args\u001b[49m\u001b[43m,\u001b[49m\u001b[43m \u001b[49m\u001b[38;5;241;43m*\u001b[39;49m\u001b[38;5;241;43m*\u001b[39;49m\u001b[43minner_kwargs\u001b[49m\u001b[43m)\u001b[49m\n\u001b[1;32m    387\u001b[0m     arguments \u001b[38;5;241m=\u001b[39m signature\u001b[38;5;241m.\u001b[39mbind(\u001b[38;5;241m*\u001b[39minner_args, \u001b[38;5;241m*\u001b[39m\u001b[38;5;241m*\u001b[39minner_kwargs)\u001b[38;5;241m.\u001b[39marguments\n\u001b[1;32m    388\u001b[0m     \u001b[38;5;28;01mif\u001b[39;00m is_varargs \u001b[38;5;129;01mand\u001b[39;00m arguments\u001b[38;5;241m.\u001b[39mget(name):\n",
      "File \u001b[0;32m~/anaconda3/envs/toptagger_env/lib/python3.9/site-packages/matplotlib/backends/backend_pdf.py:2778\u001b[0m, in \u001b[0;36mFigureCanvasPdf.print_pdf\u001b[0;34m(self, filename, dpi, bbox_inches_restore, metadata)\u001b[0m\n\u001b[1;32m   2776\u001b[0m     file \u001b[38;5;241m=\u001b[39m filename\u001b[38;5;241m.\u001b[39m_file\n\u001b[1;32m   2777\u001b[0m \u001b[38;5;28;01melse\u001b[39;00m:\n\u001b[0;32m-> 2778\u001b[0m     file \u001b[38;5;241m=\u001b[39m \u001b[43mPdfFile\u001b[49m\u001b[43m(\u001b[49m\u001b[43mfilename\u001b[49m\u001b[43m,\u001b[49m\u001b[43m \u001b[49m\u001b[43mmetadata\u001b[49m\u001b[38;5;241;43m=\u001b[39;49m\u001b[43mmetadata\u001b[49m\u001b[43m)\u001b[49m\n\u001b[1;32m   2779\u001b[0m \u001b[38;5;28;01mtry\u001b[39;00m:\n\u001b[1;32m   2780\u001b[0m     file\u001b[38;5;241m.\u001b[39mnewPage(width, height)\n",
      "File \u001b[0;32m~/anaconda3/envs/toptagger_env/lib/python3.9/site-packages/matplotlib/backends/backend_pdf.py:654\u001b[0m, in \u001b[0;36mPdfFile.__init__\u001b[0;34m(self, filename, metadata)\u001b[0m\n\u001b[1;32m    652\u001b[0m \u001b[38;5;28mself\u001b[39m\u001b[38;5;241m.\u001b[39moriginal_file_like \u001b[38;5;241m=\u001b[39m \u001b[38;5;28;01mNone\u001b[39;00m\n\u001b[1;32m    653\u001b[0m \u001b[38;5;28mself\u001b[39m\u001b[38;5;241m.\u001b[39mtell_base \u001b[38;5;241m=\u001b[39m \u001b[38;5;241m0\u001b[39m\n\u001b[0;32m--> 654\u001b[0m fh, opened \u001b[38;5;241m=\u001b[39m \u001b[43mcbook\u001b[49m\u001b[38;5;241;43m.\u001b[39;49m\u001b[43mto_filehandle\u001b[49m\u001b[43m(\u001b[49m\u001b[43mfilename\u001b[49m\u001b[43m,\u001b[49m\u001b[43m \u001b[49m\u001b[38;5;124;43m\"\u001b[39;49m\u001b[38;5;124;43mwb\u001b[39;49m\u001b[38;5;124;43m\"\u001b[39;49m\u001b[43m,\u001b[49m\u001b[43m \u001b[49m\u001b[43mreturn_opened\u001b[49m\u001b[38;5;241;43m=\u001b[39;49m\u001b[38;5;28;43;01mTrue\u001b[39;49;00m\u001b[43m)\u001b[49m\n\u001b[1;32m    655\u001b[0m \u001b[38;5;28;01mif\u001b[39;00m \u001b[38;5;129;01mnot\u001b[39;00m opened:\n\u001b[1;32m    656\u001b[0m     \u001b[38;5;28;01mtry\u001b[39;00m:\n",
      "File \u001b[0;32m~/anaconda3/envs/toptagger_env/lib/python3.9/site-packages/matplotlib/cbook/__init__.py:451\u001b[0m, in \u001b[0;36mto_filehandle\u001b[0;34m(fname, flag, return_opened, encoding)\u001b[0m\n\u001b[1;32m    449\u001b[0m         fh \u001b[38;5;241m=\u001b[39m bz2\u001b[38;5;241m.\u001b[39mBZ2File(fname, flag)\n\u001b[1;32m    450\u001b[0m     \u001b[38;5;28;01melse\u001b[39;00m:\n\u001b[0;32m--> 451\u001b[0m         fh \u001b[38;5;241m=\u001b[39m \u001b[38;5;28;43mopen\u001b[39;49m\u001b[43m(\u001b[49m\u001b[43mfname\u001b[49m\u001b[43m,\u001b[49m\u001b[43m \u001b[49m\u001b[43mflag\u001b[49m\u001b[43m,\u001b[49m\u001b[43m \u001b[49m\u001b[43mencoding\u001b[49m\u001b[38;5;241;43m=\u001b[39;49m\u001b[43mencoding\u001b[49m\u001b[43m)\u001b[49m\n\u001b[1;32m    452\u001b[0m     opened \u001b[38;5;241m=\u001b[39m \u001b[38;5;28;01mTrue\u001b[39;00m\n\u001b[1;32m    453\u001b[0m \u001b[38;5;28;01melif\u001b[39;00m \u001b[38;5;28mhasattr\u001b[39m(fname, \u001b[38;5;124m'\u001b[39m\u001b[38;5;124mseek\u001b[39m\u001b[38;5;124m'\u001b[39m):\n",
      "\u001b[0;31mFileNotFoundError\u001b[0m: [Errno 2] No such file or directory: 'plots/jet_m.pdf'"
     ]
    },
    {
     "data": {
      "image/png": "[encoded data removed]",
      "text/plain": [
       "<Figure size 576x576 with 1 Axes>"
      ]
     },
     "metadata": {
      "needs_background": "light"
     },
     "output_type": "display_data"
    }
   ],
   "source": [
    "ind_0 = dataset[\"y\"] == 0\n",
    "ind_1 = dataset[\"y\"] == 1\n",
    "Ms_0 = np.array(dataset[ind_0][\"m\"])\n",
    "Ms_1 = np.array(dataset[ind_1][\"m\"])\n",
    "pts_0 = np.array(dataset[ind_0][\"pt\"])\n",
    "pts_1 = np.array(dataset[ind_1][\"pt\"])\n",
    "\n",
    "plt.figure(figsize=(8,8))\n",
    "plt.hist(Ms_1, bins = 50, label = 'signal', alpha = 0.5, color='blue')\n",
    "plt.hist(Ms_0, bins = 50, label = 'background', alpha = 0.5, color='red')\n",
    "plt.xlabel('Jet mass [GeV]', fontsize=20)\n",
    "plt.ylabel(\"Number of Events\", fontsize = 20)\n",
    "plt.legend(fontsize = 20)\n",
    "plt.tick_params(axis='both', which='major', labelsize=20)\n",
    "plt.tight_layout()\n",
    "# plt.savefig(\"figures/jet_m.pdf\")\n",
    "\n",
    "plt.figure(figsize=(8,8))\n",
    "\n",
    "plt.hist(pts_1, bins = 50, label = 'signal', alpha = 0.5, color='blue')\n",
    "plt.hist(pts_0, bins = 50, label = 'background', alpha = 0.5, color='red')\n",
    "plt.xlabel('Jet Transverse Momentum [GeV]', fontsize=20)\n",
    "plt.ylabel(\"Number of Events\", fontsize = 20)\n",
    "plt.tick_params(axis='both', which='major', labelsize=20)\n",
    "plt.legend(fontsize = 20)\n",
    "plt.tight_layout()\n",
    "plt.savefig(\"fig/jet_pt.pdf\")"
   ]
  },
  {
   "cell_type": "code",
   "execution_count": null,
   "id": "85287802",
   "metadata": {},
   "outputs": [],
   "source": [
    "taus_0 = np.array(dataset[ind_0][\"tau_1_10\"])\n",
    "taus_1 = np.array(dataset[ind_1][\"tau_1_10\"])\n",
    "\n",
    "plt.figure(figsize=(8,8))\n",
    "plt.hist(taus_1, bins = np.arange(0,1,0.05), label = 'signal', alpha = 0.5, color='blue')\n",
    "plt.hist(taus_0, bins = np.arange(0,1,0.05), label = 'background', alpha = 0.5, color='red')\n",
    "plt.xlabel(r'$\\tau_1^{(1)}$', fontsize=20)\n",
    "plt.ylabel(\"Number of Events\", fontsize = 20)\n",
    "plt.tick_params(axis='both', which='major', labelsize=20)\n",
    "plt.legend(fontsize = 20)\n",
    "plt.tight_layout()\n",
    "plt.savefig(\"plots/tau_1_10.pdf\")"
   ]
  },
  {
   "cell_type": "code",
   "execution_count": null,
   "id": "42eb8e29",
   "metadata": {},
   "outputs": [],
   "source": [
    "taus_0 = np.array(dataset[ind_0][\"tau_7_10\"])\n",
    "taus_1 = np.array(dataset[ind_1][\"tau_7_10\"])\n",
    "\n",
    "plt.figure(figsize=(8,8))\n",
    "plt.hist(taus_1, bins = np.arange(0,0.2,0.01), label = 'signal', alpha = 0.5, color='blue')\n",
    "plt.hist(taus_0, bins = np.arange(0,0.2,0.01), label = 'background', alpha = 0.5, color='red')\n",
    "plt.xlabel(r'$\\tau_7^{(1)}$', fontsize=20)\n",
    "plt.ylabel(\"Number of Events\", fontsize = 20)\n",
    "plt.tick_params(axis='both', which='major', labelsize=20)\n",
    "plt.legend(fontsize = 20)\n",
    "plt.tight_layout()\n",
    "plt.savefig(\"plots/tau_7_10.pdf\")"
   ]
  },
  {
   "cell_type": "code",
   "execution_count": null,
   "id": "6c743ff2",
   "metadata": {},
   "outputs": [],
   "source": [
    "taus_0 = np.array(dataset[ind_0][\"tau_2_10\"])\n",
    "taus_1 = np.array(dataset[ind_1][\"tau_2_10\"])\n",
    "\n",
    "plt.figure(figsize=(8,8))\n",
    "plt.hist(taus_1, bins = np.arange(0,0.5,0.025), label = 'signal', alpha = 0.5, color='blue')\n",
    "plt.hist(taus_0, bins = np.arange(0,0.5,0.025), label = 'background', alpha = 0.5, color='red')\n",
    "plt.xlabel(r'$\\tau_2^{(1)}$', fontsize=20)\n",
    "plt.ylabel(\"Number of Events\", fontsize = 20)\n",
    "plt.tick_params(axis='both', which='major', labelsize=20)\n",
    "plt.legend(fontsize = 20)\n",
    "plt.tight_layout()\n",
    "plt.savefig(\"plots/tau_2_10.pdf\")"
   ]
  },
  {
   "cell_type": "code",
   "execution_count": null,
   "id": "d40c98ad",
   "metadata": {},
   "outputs": [],
   "source": [
    "taus_0 = np.array(dataset[ind_0][\"tau_3_05\"])\n",
    "taus_1 = np.array(dataset[ind_1][\"tau_3_05\"])\n",
    "\n",
    "plt.figure(figsize=(8,8))\n",
    "plt.hist(taus_1, bins = np.arange(0,0.6,0.05), label = 'signal', alpha = 0.5, color='blue')\n",
    "plt.hist(taus_0, bins = np.arange(0,0.6,0.05), label = 'background', alpha = 0.5, color='red')\n",
    "plt.xlabel(r'$\\tau_3^{(0.5)}$', fontsize=20)\n",
    "plt.ylabel(\"Number of Events\", fontsize = 20)\n",
    "plt.tick_params(axis='both', which='major', labelsize=20)\n",
    "plt.legend(fontsize = 20)\n",
    "plt.tight_layout()\n",
    "plt.savefig(\"plots/tau_3_05.pdf\")"
   ]
  },
  {
   "cell_type": "code",
   "execution_count": null,
   "id": "98ad3083",
   "metadata": {},
   "outputs": [],
   "source": [
    "taus_0 = np.array(dataset[ind_0][\"tau_2_20\"])\n",
    "taus_1 = np.array(dataset[ind_1][\"tau_2_20\"])\n",
    "\n",
    "plt.figure(figsize=(8,8))\n",
    "plt.hist(taus_1, bins = np.arange(0,0.1,0.005), label = 'signal', alpha = 0.5, color='blue')\n",
    "plt.hist(taus_0, bins = np.arange(0,0.1,0.005), label = 'background', alpha = 0.5, color='red')\n",
    "plt.xlabel(r'$\\tau_2^{(2)}$', fontsize=20)\n",
    "plt.ylabel(\"Number of Events\", fontsize = 20)\n",
    "plt.tick_params(axis='both', which='major', labelsize=20)\n",
    "plt.legend(fontsize = 20)\n",
    "plt.tight_layout()\n",
    "plt.savefig(\"plots/tau_2_20.pdf\")"
   ]
  },
  {
   "cell_type": "code",
   "execution_count": null,
   "id": "bcf8da1e",
   "metadata": {},
   "outputs": [],
   "source": [
    "taus_0 = np.array(dataset[ind_0][\"tau_5_20\"])\n",
    "taus_1 = np.array(dataset[ind_1][\"tau_5_20\"])\n",
    "\n",
    "plt.figure(figsize=(8,8))\n",
    "plt.hist(taus_1, bins = np.arange(0,0.025,0.002), label = 'signal', alpha = 0.5, color='blue')\n",
    "plt.hist(taus_0, bins = np.arange(0,0.025,0.002), label = 'background', alpha = 0.5, color='red')\n",
    "plt.xlabel(r'$\\tau_5^{(2)}$', fontsize=20)\n",
    "plt.ylabel(\"Number of Events\", fontsize = 20)\n",
    "plt.tick_params(axis='both', which='major', labelsize=20)\n",
    "plt.legend(fontsize = 20)\n",
    "plt.tight_layout()\n",
    "plt.savefig(\"plots/tau_5_20.pdf\")"
   ]
  }
 ],
 "metadata": {
  "kernelspec": {
   "display_name": "Python 3 (ipykernel)",
   "language": "python",
   "name": "python3"
  },
  "language_info": {
   "codemirror_mode": {
    "name": "ipython",
    "version": 3
   },
   "file_extension": ".py",
   "mimetype": "text/x-python",
   "name": "python",
   "nbconvert_exporter": "python",
   "pygments_lexer": "ipython3",
   "version": "3.9.12"
  }
 },
 "nbformat": 4,
 "nbformat_minor": 5
}
