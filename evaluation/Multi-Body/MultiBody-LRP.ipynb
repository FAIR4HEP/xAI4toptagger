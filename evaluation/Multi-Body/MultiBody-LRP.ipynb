{
 "cells": [
  {
   "cell_type": "code",
   "execution_count": 1,
   "id": "7444fec9",
   "metadata": {},
   "outputs": [],
   "source": [
    "import torch\n",
    "import numpy as np\n",
    "from torch.utils.data import DataLoader\n",
    "import matplotlib.pyplot as plt\n",
    "import pickle\n",
    "import pandas as pd\n",
    "import copy\n",
    "import torch.nn as nn\n",
    "import shap\n",
    "import seaborn as sns\n",
    "\n",
    "import sys, os, json\n",
    "sys.path.insert(1, '../../models/Multi-Body')\n",
    "from multidataset import MultiDataset\n",
    "from multimodel import Net as Model"
   ]
  },
  {
   "cell_type": "code",
   "execution_count": 3,
   "id": "ae492f2c",
   "metadata": {},
   "outputs": [
    {
     "data": {
      "text/plain": [
       "Net(\n",
       "  (_nn): Sequential(\n",
       "    (0): Sequential(\n",
       "      (0): Linear(in_features=22, out_features=200, bias=True)\n",
       "      (1): ReLU()\n",
       "      (2): Dropout(p=0.2, inplace=False)\n",
       "    )\n",
       "    (1): Sequential(\n",
       "      (0): Linear(in_features=200, out_features=200, bias=True)\n",
       "      (1): ReLU()\n",
       "      (2): Dropout(p=0.2, inplace=False)\n",
       "    )\n",
       "    (2): Sequential(\n",
       "      (0): Linear(in_features=200, out_features=50, bias=True)\n",
       "      (1): ReLU()\n",
       "      (2): Dropout(p=0.1, inplace=False)\n",
       "    )\n",
       "    (3): Sequential(\n",
       "      (0): Linear(in_features=50, out_features=50, bias=True)\n",
       "      (1): ReLU()\n",
       "      (2): Dropout(p=0.1, inplace=False)\n",
       "    )\n",
       "    (4): Sequential(\n",
       "      (0): Linear(in_features=50, out_features=2, bias=True)\n",
       "      (1): Identity()\n",
       "      (2): Identity()\n",
       "    )\n",
       "  )\n",
       "  (softmax): Softmax(dim=1)\n",
       ")"
      ]
     },
     "execution_count": 3,
     "metadata": {},
     "output_type": "execute_result"
    }
   ],
   "source": [
    "#Parameters to change, can change model_type to 'best' or 'last'\n",
    "modelname = 'MultiBody8-Subjettiness_massTrue_ptTrue_best_baseline'\n",
    "#modelname = 'MultiBody8-Subjettiness_massTrue_ptTrue_best_tau_x_1_tau_x_1'\n",
    "model_dict = json.load(open('../../models/Multi-Body/trained_model_dicts/' + modelname.replace(\"_best\", \"\") + \".json\"))\n",
    "use_jet_pt = model_dict['use_pt']\n",
    "use_jet_mass = model_dict['use_mass']\n",
    "tau_x_1 = model_dict['tau_x_1']\n",
    "N = model_dict['N']\n",
    "extra_name = model_dict['label']\n",
    "hidden = list(map(int, model_dict['nodes'].split(',')))\n",
    "# use_jet_pt = True\n",
    "# use_jet_mass = True\n",
    "# tau_x_1 = False\n",
    "# N = 8\n",
    "# extra_name = ''\n",
    "\n",
    "model_type = 'best'\n",
    "if extra_name != '' and not extra_name.startswith('_'):\n",
    "    extra_name = '_' + extra_name\n",
    "if tau_x_1:\n",
    "    extra_name += '_tau_x_1'\n",
    "\n",
    "classes = []\n",
    "if not tau_x_1:\n",
    "    for i in range(N-1):\n",
    "        if i != N-2:\n",
    "            classes.append('tau_'+str(i+1)+'_'+str(0.5))\n",
    "            classes.append('tau_'+str(i+1)+'_'+str(1))\n",
    "            classes.append('tau_'+str(i+1)+'_'+str(2))\n",
    "        else:\n",
    "            classes.append('tau_'+str(i+1)+'_'+str(1))\n",
    "            classes.append('tau_'+str(i+1)+'_'+str(2))\n",
    "    if use_jet_pt:\n",
    "        classes.append('jet_pt')\n",
    "    if use_jet_mass:\n",
    "        classes.append('jet_mass')\n",
    "else:\n",
    "    for i in range(N-1):\n",
    "        classes.append('tau_'+str(i+1)+'_'+str(1))\n",
    "    if use_jet_pt:\n",
    "        classes.append('jet_pt')\n",
    "    if use_jet_mass:\n",
    "        classes.append('jet_mass')\n",
    "\n",
    "    \n",
    "## if hidden = [200, 200, 50], uncomment the following 3 lines\n",
    "# hidden = [200,200,50]\n",
    "# extra_name = '_no_fourth_layer'\n",
    "# tau_x_1 = False\n",
    "\n",
    "#Testing pat\n",
    "\n",
    "#model path\n",
    "model_path = '../../models/Multi-Body/trained_models/MultiBody' + str(N) + '-Subjettiness_mass' +str(use_jet_mass)+\\\n",
    "             '_pt'+str(use_jet_pt)+'_'+ model_type + extra_name\n",
    "\n",
    "#loading model\n",
    "model = Model(N, use_jet_pt, use_jet_mass, tau_x_1, hidden).cuda()\n",
    "model.load_state_dict(torch.load(model_path))\n",
    "model.eval()"
   ]
  },
  {
   "cell_type": "code",
   "execution_count": 4,
   "id": "00881ec3-c85c-48bd-82f0-b385f58e4c89",
   "metadata": {},
   "outputs": [
    {
     "name": "stdout",
     "output_type": "stream",
     "text": [
      "['linear', 'relu', 'dropout', 'linear', 'relu', 'dropout', 'linear', 'relu', 'dropout', 'linear', 'relu', 'dropout', 'linear', 'other', 'other']\n"
     ]
    }
   ],
   "source": [
    "layers = []\n",
    "layer_types = []\n",
    "for layer in model._nn:\n",
    "    for sl in layer:\n",
    "        layers.append(sl)\n",
    "        if type(sl) == nn.Linear:\n",
    "            layer_types.append('linear')\n",
    "        elif type(sl) == nn.ReLU:\n",
    "            layer_types.append('relu')\n",
    "        elif type(sl) == nn.Dropout:\n",
    "            layer_types.append('dropout')\n",
    "        else:\n",
    "            layer_types.append('other')\n",
    "        \n",
    "L = len(layers)\n",
    "print(layer_types)"
   ]
  },
  {
   "cell_type": "code",
   "execution_count": 6,
   "id": "9cfe8f68-3808-4813-93cf-2b72014ad7b9",
   "metadata": {},
   "outputs": [
    {
     "name": "stdout",
     "output_type": "stream",
     "text": [
      "[0, 3, 6, 9, 12, 13]\n",
      "6\n"
     ]
    }
   ],
   "source": [
    "test_path = '../../datasets/n-subjettiness_data/test_all.npy'\n",
    "test_set = MultiDataset(test_path, N, use_jet_pt, use_jet_mass, tau_x_1)\n",
    "data, labels = test_set[:]\n",
    "bkg_indices = labels[:,0] == 1\n",
    "sig_indices = labels[:,0] == 0\n",
    "bkg_data = data[bkg_indices, :]\n",
    "sig_data = data[sig_indices, :]\n",
    "\n",
    "A_bkg = [torch.from_numpy(bkg_data).float().cuda()]+[None]*L\n",
    "A_sig = [torch.from_numpy(sig_data).float().cuda()]+[None]*L\n",
    "sel_layer_indices = [0] + [ii + 1 for ii in range(L-1) if layer_types[ii] == 'dropout' or (layer_types[ii] == 'linear' and layer_types[ii+1] == 'other')]\n",
    "print(sel_layer_indices)\n",
    "for i in range(L):\n",
    "    #print(layer_types[i])\n",
    "    A_bkg[i+1] = layers[i].forward(A_bkg[i])\n",
    "    A_sig[i+1] = layers[i].forward(A_sig[i])\n",
    "\n",
    "B_bkg = [] # A[0], A[3], A[6], A[9], A[12], A[13][:,col][...,None]]\n",
    "B_sig = []\n",
    "for ii, layer_id in enumerate(sel_layer_indices):\n",
    "    if ii == len(sel_layer_indices) - 1:\n",
    "        B_bkg.append(A_bkg[layer_id][:,0][...,None])\n",
    "        B_sig.append(A_sig[layer_id][:,1][...,None])\n",
    "    else:\n",
    "        B_bkg.append(A_bkg[layer_id])\n",
    "        B_sig.append(A_sig[layer_id])\n",
    "print(len(B_bkg))"
   ]
  },
  {
   "cell_type": "code",
   "execution_count": 7,
   "id": "e60f4a5f-2bbf-4579-aef4-177ca40a6d01",
   "metadata": {},
   "outputs": [],
   "source": [
    "def LRPEvaluator(A,B,layers,sel_layer_indices,col,lrp_type='gamma',lrp_param=2,zero_bias=False):\n",
    "    \n",
    "    if lrp_type == 'zero':\n",
    "        rho = lambda p: p                       \n",
    "        incr = lambda z: z\n",
    "    elif lrp_type == 'gamma':\n",
    "        rho = lambda p: p + lrp_param*p.clamp(min=0) \n",
    "        incr = lambda z: z\n",
    "    elif lrp_type == 'epsilon':\n",
    "        rho = lambda p: p\n",
    "        incr = lambda z: z+lrp_param\n",
    "        \n",
    "    def newlayer(layer,g):\n",
    "        layer = copy.deepcopy(layer)\n",
    "        with torch.no_grad():\n",
    "            try: layer.weight = nn.Parameter(g(layer.weight))\n",
    "            except AttributeError: pass\n",
    "            if zero_bias:\n",
    "                try: nn.init.constant_(layer.bias, 0.0)\n",
    "                except AttributeError: pass\n",
    "            else:\n",
    "                try: layer.bias   = nn.Parameter(g(layer.bias))\n",
    "                except AttributeError: pass\n",
    "        return layer\n",
    "    \n",
    "    R = [None]*(len(B) - 1) + [B[-1]]\n",
    "    # Iterate over the layers in reverse order\n",
    "    for l, layer_id in list(zip(range(0, len(B)-1), sel_layer_indices[:-1]))[::-1]:    \n",
    "        #B[l] = (B[l+1].data).requires_grad_(True)\n",
    "        this_layer = layers[layer_id] \n",
    "        B[l] = (B[l].data).requires_grad_(True)\n",
    "        #z = newlayer(model_copy._modules[layer_names[3*l]], rho).forward(B[l]) # setp 1\n",
    "        z = newlayer(this_layer, rho).forward(B[l]) # setp 1\n",
    "        if l != len(B) - 2:\n",
    "            #z = model_copy._modules[layer_names[3*l+1]].forward(z)\n",
    "            #z = incr(model_copy._modules[layer_names[3*l+2]].forward(z))\n",
    "            z = layers[layer_id+1].forward(z)\n",
    "            z = layers[layer_id+2].forward(z)\n",
    "        else:\n",
    "            z = incr(z[:,col][...,None])\n",
    "        #Gets rid of zeroes in denominators\n",
    "        inds_nz = z != 0\n",
    "        R1_sum = torch.sum(R[l+1].clone())\n",
    "        R2_sum_nz = torch.sum(R[l+1][inds_nz].clone())\n",
    "        R[l+1] = R[l+1].clone()*R1_sum/R2_sum_nz\n",
    "        z = torch.where(z == torch.FloatTensor([0]).cuda(), torch.FloatTensor([1]).cuda(), z)\n",
    "        R[l + 1] = torch.where(z == torch.FloatTensor([0]).cuda(), torch.FloatTensor([0]).cuda(), R[l+1])\n",
    "\n",
    "        s = (R[l+1]/z).data                                    # step 2\n",
    "        (z*s).sum().backward(); c = B[l].grad                  # step 3\n",
    "        R[l] = (B[l]*c).data                                   # step 4\n",
    "    \n",
    "    #Plots relevances as normalized\n",
    "    R[0] = R[0].detach().cpu()\n",
    "    normal_rel = np.empty_like(R[0])\n",
    "    #Normalizes relevances for each sample\n",
    "    normal_rel = (R[0]/np.sum(R[0].detach().numpy(), 1)[:, np.newaxis]).detach().numpy()\n",
    "    return normal_rel"
   ]
  },
  {
   "cell_type": "code",
   "execution_count": 20,
   "id": "ce81d0d7-be65-411a-b55e-4edf6d947795",
   "metadata": {},
   "outputs": [],
   "source": [
    "def removeOutliers(x, outlierConstant=1.5):\n",
    "    quantiles = np.quantile(x, (0.25, 0.75),axis=0)\n",
    "    IQR = (quantiles[1]-quantiles[0])*1.5\n",
    "    result = np.where((x>=quantiles[0]-IQR)&(x<=quantiles[1]+IQR), x, 0)\n",
    "    \n",
    "    return result\n",
    "\n",
    "def relPlotter(normal_rel,classes,options,datatype,save=False,rel4mean=False):\n",
    "    print('abs_bar')\n",
    "    normal_rel_no_outlier = removeOutliers(normal_rel)\n",
    "    plt.figure(figsize=(5,5))\n",
    "    abs_relevances = np.nanmean(np.abs(normal_rel_no_outlier), 0) #Takes mean across all jets\n",
    "    df_rel = pd.DataFrame(dict(params=classes, rels=abs_relevances))\n",
    "    df_rel_sorted = df_rel.sort_values('rels') #Sorts relevance values\n",
    "    # creating the abs bar plot\n",
    "    max_display = 10\n",
    "    plt.barh('params', 'rels', data = df_rel_sorted.tail(max_display), color ='blue')\n",
    "    plt.tight_layout()\n",
    "    plt.xlabel(\"Mean |Relevance Score|\", fontsize=14)\n",
    "    if  rel4mean:\n",
    "        plt.xlabel(\"|Mean-Behavior Relevance Score|\", fontsize=14)\n",
    "    plt.ylabel(\"Features\", fontsize=12)\n",
    "    plt.tick_params(axis='both', which='major', labelsize=14)\n",
    "    if save:\n",
    "        plt.savefig(\"figures/LRP_MB8S_{}_{}_absbar.png\".format(options, datatype),\n",
    "                    dpi = 150, bbox_inches='tight')\n",
    "    plt.show()"
   ]
  },
  {
   "cell_type": "code",
   "execution_count": 10,
   "id": "6e062f0a-fea4-4693-becd-ca4876d2b28c",
   "metadata": {},
   "outputs": [],
   "source": [
    "tag_labels = []\n",
    "for feat in classes:\n",
    "    if feat == 'jet_pt':\n",
    "        tag_labels.append('$p_{T,J}$')\n",
    "    elif feat == 'jet_mass':\n",
    "        tag_labels.append('$m_J$')\n",
    "    else:\n",
    "        x, y = feat.split('_')[1], feat.split('_')[2]\n",
    "        tag_labels.append(r'$\\tau_' + x + '^{' + y + '}$')"
   ]
  },
  {
   "cell_type": "code",
   "execution_count": 24,
   "id": "ce9cc9c3-fc76-4b39-8d25-51aec771696c",
   "metadata": {},
   "outputs": [
    {
     "name": "stdout",
     "output_type": "stream",
     "text": [
      "abs_bar\n"
     ]
    },
    {
     "data": {
      "image/png": "[encoded data removed]",
      "text/plain": [
       "<Figure size 360x360 with 1 Axes>"
      ]
     },
     "metadata": {
      "needs_background": "light"
     },
     "output_type": "display_data"
    }
   ],
   "source": [
    "xx = LRPEvaluator(A_bkg,B_bkg,layers,sel_layer_indices,col=0,lrp_type='gamma',lrp_param=2,zero_bias=False)\n",
    "relPlotter(xx,tag_labels,options=extra_name,datatype='bkg',save=True if \"baseline\" in extra_name else False)"
   ]
  },
  {
   "cell_type": "code",
   "execution_count": 23,
   "id": "8f8a63e7-48b0-4e05-9128-7a8db68a3ec5",
   "metadata": {},
   "outputs": [
    {
     "name": "stdout",
     "output_type": "stream",
     "text": [
      "abs_bar\n"
     ]
    },
    {
     "data": {
      "image/png": "[encoded data removed]",
      "text/plain": [
       "<Figure size 360x360 with 1 Axes>"
      ]
     },
     "metadata": {
      "needs_background": "light"
     },
     "output_type": "display_data"
    }
   ],
   "source": [
    "xx = LRPEvaluator(A_sig,B_sig,layers,sel_layer_indices,col=1,lrp_type='gamma',lrp_param=2,zero_bias=False)\n",
    "relPlotter(xx,tag_labels,options=extra_name,datatype=\"sig\",save=True if \"baseline\" in extra_name else False)"
   ]
  }
 ],
 "metadata": {
  "kernelspec": {
   "display_name": "Python [conda env:.conda-toptagger_env]",
   "language": "python",
   "name": "conda-env-.conda-toptagger_env-py"
  },
  "language_info": {
   "codemirror_mode": {
    "name": "ipython",
    "version": 3
   },
   "file_extension": ".py",
   "mimetype": "text/x-python",
   "name": "python",
   "nbconvert_exporter": "python",
   "pygments_lexer": "ipython3",
   "version": "3.9.12"
  }
 },
 "nbformat": 4,
 "nbformat_minor": 5
}
