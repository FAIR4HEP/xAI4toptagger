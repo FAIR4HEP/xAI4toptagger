{
 "cells": [
  {
   "cell_type": "code",
   "execution_count": 1,
   "id": "c406af2b",
   "metadata": {},
   "outputs": [],
   "source": [
    "import sys\n",
    "sys.path.append(\"../../models/Multi-Body\")\n",
    "from multidataset import MultiDataset\n",
    "import numpy as np\n",
    "from tqdm import tqdm\n",
    "import torch\n",
    "from torch.utils.data import DataLoader\n",
    "from multimodel import Net as Model\n",
    "from utils import accuracy\n",
    "import sklearn\n",
    "from sklearn.metrics import roc_auc_score, accuracy_score\n",
    "import matplotlib.pyplot as plt\n",
    "import os\n",
    "import json"
   ]
  },
  {
   "cell_type": "code",
   "execution_count": 2,
   "id": "e27c7a7e",
   "metadata": {},
   "outputs": [
    {
     "name": "stdout",
     "output_type": "stream",
     "text": [
      "MultiBody8-Subjettiness_massTrue_ptTrue_best\n",
      "MultiBody8-Subjettiness_massTrue_ptFalse_best\n",
      "MultiBody8-Subjettiness_massTrue_ptTrue_best_no_fourth_layer\n",
      "MultiBody8-Subjettiness_massTrue_ptTrue_best_tau_x_1\n"
     ]
    }
   ],
   "source": [
    "all_models = [f for f in os.listdir('../../models/Multi-Body/trained_models') if '_best' in f]\n",
    "print('\\n'.join(all_models))"
   ]
  },
  {
   "cell_type": "code",
   "execution_count": 3,
   "id": "fc97cb87",
   "metadata": {},
   "outputs": [],
   "source": [
    "#Testing path\n",
    "test_path = '../../datasets/n-subjettiness_data/test_all.npy'"
   ]
  },
  {
   "cell_type": "code",
   "execution_count": 4,
   "id": "2bfee2f6",
   "metadata": {},
   "outputs": [],
   "source": [
    "def eval2(model, data):\n",
    "    data = torch.tensor(data, dtype = torch.float32).cuda()\n",
    "    return model.forward(data)"
   ]
  },
  {
   "cell_type": "code",
   "execution_count": 5,
   "id": "c8e899cf",
   "metadata": {},
   "outputs": [
    {
     "name": "stdout",
     "output_type": "stream",
     "text": [
      "MultiBody8-Subjettiness_massTrue_ptTrue_best\t ROC-AUC: 97.9805%, Accuracy: 92.8149%\n",
      "MultiBody8-Subjettiness_massTrue_ptFalse_best\t ROC-AUC: 97.9736%, Accuracy: 92.8002%\n",
      "MultiBody8-Subjettiness_massTrue_ptTrue_best_no_fourth_layer\t ROC-AUC: 97.9835%, Accuracy: 92.8299%\n",
      "MultiBody8-Subjettiness_massTrue_ptTrue_best_tau_x_1\t ROC-AUC: 97.5527%, Accuracy: 92.1232%\n"
     ]
    }
   ],
   "source": [
    "#Parameters to change, can change model_type to 'best' or 'last'\n",
    "for modelname in all_models:\n",
    "    model_dict = json.load(open('../../models/Multi-Body/trained_model_dicts/' + modelname.replace(\"_best\", \"\") + \".json\"))\n",
    "    use_jet_pt = model_dict['use_pt']\n",
    "    use_jet_mass = model_dict['use_mass']\n",
    "    tau_x_1 = model_dict['tau_x_1']\n",
    "    N = model_dict['N']\n",
    "    # model_type = 'best'\n",
    "    extra_name = model_dict['label']\n",
    "    if extra_name != '' and not extra_name.startswith('_'):\n",
    "        extra_name = '_' + extra_name\n",
    "    if tau_x_1:\n",
    "        extra_name += '_tau_x_1'\n",
    "    hidden = list(map(int, model_dict['nodes'].split(',')))\n",
    "\n",
    "\n",
    "    #model path\n",
    "    model_path = '../../models/Multi-Body/trained_models/MultiBody' + str(N) + '-Subjettiness_mass' +\\\n",
    "                 str(use_jet_mass) + '_pt' + str(use_jet_pt) + '_best' + extra_name\n",
    "\n",
    "\n",
    "    #loading model\n",
    "    model = Model(N, use_jet_pt, use_jet_mass, tau_x_1, hidden).cuda().float()\n",
    "    model.load_state_dict(torch.load(model_path))\n",
    "    model.eval()\n",
    "    \n",
    "    #Loading testing dataset\n",
    "    test_set = MultiDataset(test_path, N, use_jet_pt, use_jet_mass, tau_x_1)\n",
    "    data,labels = test_set[:]\n",
    "    with torch.no_grad():\n",
    "        results = eval2(model,data).cpu().numpy()\n",
    "    auc = roc_auc_score(labels[:,0], results[:,0])*100\n",
    "    accuracy = accuracy_score(labels[:,0], results[:,0].round())*100\n",
    "    print(\"{}\\t ROC-AUC: {:.4f}%, Accuracy: {:.4f}%\".format(modelname, auc, accuracy))"
   ]
  }
 ],
 "metadata": {
  "kernelspec": {
   "display_name": "Python 3 (ipykernel)",
   "language": "python",
   "name": "python3"
  },
  "language_info": {
   "codemirror_mode": {
    "name": "ipython",
    "version": 3
   },
   "file_extension": ".py",
   "mimetype": "text/x-python",
   "name": "python",
   "nbconvert_exporter": "python",
   "pygments_lexer": "ipython3",
   "version": "3.9.12"
  }
 },
 "nbformat": 4,
 "nbformat_minor": 5
}
