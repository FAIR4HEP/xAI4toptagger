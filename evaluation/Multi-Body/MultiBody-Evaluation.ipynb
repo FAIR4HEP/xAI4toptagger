{
 "cells": [
  {
   "cell_type": "code",
   "execution_count": 16,
   "id": "c406af2b",
   "metadata": {},
   "outputs": [],
   "source": [
    "import sys\n",
    "sys.path.append(\"../../models/Multi-Body\")\n",
    "from multidataset import MultiDataset\n",
    "import numpy as np\n",
    "from tqdm import tqdm\n",
    "import torch\n",
    "from torch.utils.data import DataLoader\n",
    "from multimodel import Net as Model\n",
    "import sklearn\n",
    "from sklearn.metrics import roc_auc_score, accuracy_score, roc_curve\n",
    "import matplotlib.pyplot as plt\n",
    "import os\n",
    "import json\n",
    "from scipy import interpolate"
   ]
  },
  {
   "cell_type": "code",
   "execution_count": 17,
   "id": "e27c7a7e",
   "metadata": {},
   "outputs": [
    {
     "name": "stdout",
     "output_type": "stream",
     "text": [
      "MultiBody8-Subjettiness_massTrue_ptTrue_best_ThreeLayer\n",
      "MultiBody8-Subjettiness_massTrue_ptTrue_best_OneLayer400\n",
      "MultiBody8-Subjettiness_massTrue_ptFalse_best_nojetpt\n",
      "MultiBody8-Subjettiness_massTrue_ptTrue_best_OneLayer\n",
      "MultiBody8-Subjettiness_massTrue_ptTrue_best_trial\n",
      "MultiBody8-Subjettiness_massTrue_ptTrue_best_baseline\n",
      "MultiBody8-Subjettiness_massTrue_ptTrue_best_TwoLayer\n",
      "MultiBody8-Subjettiness_massTrue_ptTrue_best_tau_x_1\n"
     ]
    }
   ],
   "source": [
    "all_models = [f for f in os.listdir('../../models/Multi-Body/trained_models') if '_best' in f]\n",
    "print('\\n'.join(all_models))"
   ]
  },
  {
   "cell_type": "code",
   "execution_count": 18,
   "id": "fc97cb87",
   "metadata": {},
   "outputs": [],
   "source": [
    "#Testing path\n",
    "test_path = '../../datasets/n-subjettiness_data/test_all.npy'"
   ]
  },
  {
   "cell_type": "code",
   "execution_count": 19,
   "id": "2bfee2f6",
   "metadata": {},
   "outputs": [],
   "source": [
    "def eval2(model, data):\n",
    "    data = torch.tensor(data, dtype = torch.float32).cuda()\n",
    "    return model.forward(data)"
   ]
  },
  {
   "cell_type": "code",
   "execution_count": 20,
   "id": "c8e899cf",
   "metadata": {},
   "outputs": [
    {
     "name": "stdout",
     "output_type": "stream",
     "text": [
      "MultiBody8-Subjettiness_massTrue_ptTrue_best_ThreeLayer \t\t Params: 54952\t ROC-AUC: 97.98%, Accuracy: 92.81%, BRR: 815.75\n",
      "MultiBody8-Subjettiness_massTrue_ptTrue_best_OneLayer400 \t\t Params: 10002\t ROC-AUC: 97.87%, Accuracy: 92.68%, BRR: 636.49\n",
      "MultiBody8-Subjettiness_massTrue_ptFalse_best_nojetpt \t\t Params: 57302\t ROC-AUC: 97.97%, Accuracy: 92.80%, BRR: 774.64\n",
      "MultiBody8-Subjettiness_massTrue_ptTrue_best_OneLayer \t\t Params: 5002\t ROC-AUC: 97.84%, Accuracy: 92.63%, BRR: 577.62\n",
      "MultiBody8-Subjettiness_massTrue_ptTrue_best_trial \t\t Params: 57502\t ROC-AUC: 97.79%, Accuracy: 92.51%, BRR: 644.70\n",
      "MultiBody8-Subjettiness_massTrue_ptTrue_best_baseline \t\t Params: 57502\t ROC-AUC: 97.98%, Accuracy: 92.83%, BRR: 796.25\n",
      "MultiBody8-Subjettiness_massTrue_ptTrue_best_TwoLayer \t\t Params: 45202\t ROC-AUC: 97.97%, Accuracy: 92.79%, BRR: 774.64\n",
      "MultiBody8-Subjettiness_massTrue_ptTrue_best_tau_x_1 \t\t Params: 54902\t ROC-AUC: 97.55%, Accuracy: 92.14%, BRR: 516.43\n"
     ]
    }
   ],
   "source": [
    "#Parameters to change, can change model_type to 'best' or 'last'\n",
    "#all_models = ['MultiBody8-Subjettiness_massTrue_ptTrue_best_baseline', 'MultiBody8-Subjettiness_massTrue_ptTrue_best_tau_x_1']\n",
    "for modelname in all_models:\n",
    "    model_dict = json.load(open('../../models/Multi-Body/trained_model_dicts/' + modelname.replace(\"_best\", \"\") + \".json\"))\n",
    "    use_jet_pt = model_dict['use_pt']\n",
    "    use_jet_mass = model_dict['use_mass']\n",
    "    tau_x_1 = model_dict['tau_x_1']\n",
    "    N = model_dict['N']\n",
    "    # model_type = 'best'\n",
    "    extra_name = model_dict['label']\n",
    "    if extra_name != '' and not extra_name.startswith('_'):\n",
    "        extra_name = '_' + extra_name\n",
    "    if tau_x_1 and 'tau_x_1' not in extra_name:\n",
    "        extra_name += '_tau_x_1'\n",
    "    hidden = list(map(int, model_dict['nodes'].split(',')))\n",
    "\n",
    "\n",
    "    #model path\n",
    "    model_path = '../../models/Multi-Body/trained_models/MultiBody' + str(N) + '-Subjettiness_mass' +\\\n",
    "                 str(use_jet_mass) + '_pt' + str(use_jet_pt) + '_best' + extra_name\n",
    "\n",
    "\n",
    "    #loading model\n",
    "    model = Model(N, use_jet_pt, use_jet_mass, tau_x_1, hidden).cuda().float()\n",
    "    model.load_state_dict(torch.load(model_path))\n",
    "    model.eval()\n",
    "    nparams = sum(p.numel() for p in model.parameters())\n",
    "    #Loading testing dataset\n",
    "    test_set = MultiDataset(test_path, N, use_jet_pt, use_jet_mass, tau_x_1)\n",
    "    data,labels = test_set[:]\n",
    "    with torch.no_grad():\n",
    "        results = eval2(model,data).cpu().numpy()\n",
    "        \n",
    "    labels, results = labels[:,1], results[:,1]\n",
    "    auc = roc_auc_score(labels, results)*100\n",
    "    fpr, tpr, thresholds = roc_curve(labels, results)\n",
    "    intrp = interpolate.interp1d(tpr, fpr)\n",
    "    brr = 1./intrp(0.3)\n",
    "    \n",
    "    accuracy = accuracy_score(labels, results.round())*100\n",
    "    #print(\"{}\\t ROC-AUC: {:.4f}%, Accuracy: {:.4f}%\".format(modelname, auc, accuracy))\n",
    "    print(\"{} \\t\\t Params: {}\\t ROC-AUC: {:.2f}%, Accuracy: {:.2f}%, BRR: {:.2f}\".format(modelname,nparams,auc,accuracy,brr))"
   ]
  }
 ],
 "metadata": {
  "kernelspec": {
   "display_name": "Python [conda env:.conda-toptagger_env]",
   "language": "python",
   "name": "conda-env-.conda-toptagger_env-py"
  },
  "language_info": {
   "codemirror_mode": {
    "name": "ipython",
    "version": 3
   },
   "file_extension": ".py",
   "mimetype": "text/x-python",
   "name": "python",
   "nbconvert_exporter": "python",
   "pygments_lexer": "ipython3",
   "version": "3.9.12"
  }
 },
 "nbformat": 4,
 "nbformat_minor": 5
}
