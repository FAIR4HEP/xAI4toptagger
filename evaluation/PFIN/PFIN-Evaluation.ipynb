{
 "cells": [
  {
   "cell_type": "code",
   "execution_count": 1,
   "id": "f20ff3b6-3854-46b5-807c-770edf7fa2ee",
   "metadata": {},
   "outputs": [
    {
     "name": "stdout",
     "output_type": "stream",
     "text": [
      "env: HDF5_USE_FILE_LOCKING=FALSE\n"
     ]
    }
   ],
   "source": [
    "import sys, os\n",
    "sys.path.append(\"../../models/PFIN\")\n",
    "sys.path.append(os.path.abspath('../../fastjet-install/lib/python3.9/site-packages'))\n",
    "from dataset_pfn import PFNDataset\n",
    "import numpy as np\n",
    "from tqdm import tqdm\n",
    "import torch\n",
    "from torch.utils.data import DataLoader\n",
    "from PFIN import PFIN as Model\n",
    "import sklearn\n",
    "from sklearn.metrics import roc_auc_score, accuracy_score, roc_curve\n",
    "import json\n",
    "from scipy import interpolate\n",
    "from matplotlib import pyplot as plt\n",
    "%env HDF5_USE_FILE_LOCKING=FALSE"
   ]
  },
  {
   "cell_type": "code",
   "execution_count": 2,
   "id": "3591ce55-6af6-4e79-8314-bd74f624207b",
   "metadata": {},
   "outputs": [
    {
     "name": "stdout",
     "output_type": "stream",
     "text": [
      "PFIN_best_v3_sum\n",
      "PFIN_best_v3_cat\n"
     ]
    }
   ],
   "source": [
    "all_models = [f for f in os.listdir(\"../../models/PFIN/trained_models\") if \"_best\" in f]\n",
    "print(\"\\n\".join(all_models))"
   ]
  },
  {
   "cell_type": "code",
   "execution_count": 3,
   "id": "1a3924d9-1d3d-4d71-8ce6-04bb9b00bdcd",
   "metadata": {},
   "outputs": [],
   "source": [
    "test_path = \"../../datasets/test.h5\"\n",
    "\n",
    "#Loading testing dataset\n",
    "test_set = PFNDataset(test_path, n_constits = 60, preprocessed=True)\n",
    "testloader = DataLoader(test_set, shuffle=True, batch_size=512, num_workers=8, pin_memory=True, persistent_workers=True)"
   ]
  },
  {
   "cell_type": "code",
   "execution_count": 4,
   "id": "f320561f-6048-43d8-b1b6-d014883176e8",
   "metadata": {},
   "outputs": [],
   "source": [
    "def eval2(model):\n",
    "    labels = []\n",
    "    preds = []\n",
    "    with torch.no_grad():\n",
    "        for x,m,y,a,t in tqdm(testloader):\n",
    "            x = x.cuda()\n",
    "            m = m.cuda()\n",
    "            a = a.cuda()\n",
    "            t = t.cuda()\n",
    "            pred = model(x, a, m, t)\n",
    "            labels.append(y[:,1].cpu().numpy())\n",
    "            preds.append(pred[:,1].cpu().numpy())\n",
    "    labels = np.concatenate(labels, axis=None)\n",
    "    preds = np.concatenate(preds, axis=None)\n",
    "    return labels, preds"
   ]
  },
  {
   "cell_type": "code",
   "execution_count": 5,
   "id": "7b499403-92bc-45e7-9073-dfccfaaf9419",
   "metadata": {},
   "outputs": [
    {
     "name": "stdout",
     "output_type": "stream",
     "text": [
      "[100, 100, 64] [64, 100, 100]\n"
     ]
    },
    {
     "name": "stderr",
     "output_type": "stream",
     "text": [
      "100%|██████████| 790/790 [00:27<00:00, 28.47it/s] \n"
     ]
    },
    {
     "name": "stdout",
     "output_type": "stream",
     "text": [
      "PFIN_best_v3_sum \t\t Params: 96806\t ROC-AUC: 98.39%, Accuracy: 93.68%, BRR: 1040.79\n",
      "[100, 100, 64] [64, 100, 100]\n"
     ]
    },
    {
     "name": "stderr",
     "output_type": "stream",
     "text": [
      "100%|██████████| 790/790 [00:06<00:00, 113.70it/s]\n"
     ]
    },
    {
     "name": "stdout",
     "output_type": "stream",
     "text": [
      "PFIN_best_v3_cat \t\t Params: 100902\t ROC-AUC: 98.38%, Accuracy: 93.70%, BRR: 1030.17\n"
     ]
    }
   ],
   "source": [
    "all_models = ['PFIN_best_v3_sum', 'PFIN_best_v3_cat']\n",
    "for modelname in all_models:\n",
    "    model_dict = json.load(open(\"../../models/PFIN/trained_model_dicts/\" + modelname.replace(\"_best\",\"\") + \".json\"))\n",
    "    label = model_dict['label']\n",
    "    f_nodes = list(map(int, model_dict['f_nodes'].split(',')))\n",
    "    phi_nodes = list(map(int, model_dict['phi_nodes'].split(',')))\n",
    "    augmented = model_dict['augmented']\n",
    "\n",
    "    model = Model(particle_feats=3,\n",
    "                  interaction_feats=4,\n",
    "                  Phi_sizes=phi_nodes, \n",
    "                  F_sizes=f_nodes,\n",
    "                  PhiI_nodes = model_dict['n_phiI'],\n",
    "                  n_consts = 60,\n",
    "                  interaction_mode = model_dict['x_mode'],\n",
    "                  augmented = augmented).cuda()\n",
    "    model.load_state_dict(torch.load(\"../../models/PFIN/trained_models/\" + modelname ))\n",
    "    nparams = sum(p.numel() for p in model.parameters())\n",
    "    \n",
    "    # FcLayers = []\n",
    "    # PhiLayers = []\n",
    "    # for layer in model._modules['fc']:\n",
    "    #     FcLayers.append(layer)\n",
    "    # for layer in model._modules['phi']:\n",
    "    #     PhiLayers.append(layer)\n",
    "    \n",
    "    \n",
    "    labels, preds = eval2(model)\n",
    "    accuracy = accuracy_score(labels, preds.round())*100\n",
    "    \n",
    "    auc = roc_auc_score(labels, preds)*100\n",
    "    \n",
    "    fpr, tpr, thresholds = roc_curve(labels, preds, drop_intermediate=False)\n",
    "    intrp = interpolate.interp1d(tpr, fpr)\n",
    "    if 'baseline' in modelname:\n",
    "        eS = np.array(list(range(1,20)))*0.05\n",
    "        inveB = []\n",
    "        for es in eS:\n",
    "            inveB.append(1./intrp(es))\n",
    "        plt.figure()\n",
    "        plt.plot(eS, inveB)\n",
    "        plt.yscale(\"log\")\n",
    "        plt.show()\n",
    "    brr = 1./intrp(0.3)\n",
    "    print(\"{} \\t\\t Params: {}\\t ROC-AUC: {:.2f}%, Accuracy: {:.2f}%, BRR: {:.2f}\".format(modelname,nparams,auc,accuracy,brr))"
   ]
  }
 ],
 "metadata": {
  "kernelspec": {
   "display_name": "Python [conda env:.conda-toptagger_env]",
   "language": "python",
   "name": "conda-env-.conda-toptagger_env-py"
  },
  "language_info": {
   "codemirror_mode": {
    "name": "ipython",
    "version": 3
   },
   "file_extension": ".py",
   "mimetype": "text/x-python",
   "name": "python",
   "nbconvert_exporter": "python",
   "pygments_lexer": "ipython3",
   "version": "3.9.12"
  }
 },
 "nbformat": 4,
 "nbformat_minor": 5
}
