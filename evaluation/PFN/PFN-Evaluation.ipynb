{
 "cells": [
  {
   "cell_type": "code",
   "execution_count": 1,
   "id": "b7785e7a",
   "metadata": {},
   "outputs": [
    {
     "name": "stdout",
     "output_type": "stream",
     "text": [
      "env: HDF5_USE_FILE_LOCKING=FALSE\n"
     ]
    }
   ],
   "source": [
    "import sys, os\n",
    "sys.path.append(\"../../models/PFN\")\n",
    "sys.path.append(os.path.abspath('../../fastjet-install/lib/python3.9/site-packages'))\n",
    "from dataset_pfn import PFNDataset\n",
    "import numpy as np\n",
    "from tqdm import tqdm\n",
    "import torch\n",
    "from torch.utils.data import DataLoader\n",
    "from pfn_model import ParticleFlowNetwork as Model\n",
    "import sklearn\n",
    "from sklearn.metrics import roc_auc_score, accuracy_score, roc_curve\n",
    "import json\n",
    "from scipy import interpolate\n",
    "from matplotlib import pyplot as plt\n",
    "%env HDF5_USE_FILE_LOCKING=FALSE"
   ]
  },
  {
   "cell_type": "code",
   "execution_count": 2,
   "id": "6fbab605",
   "metadata": {},
   "outputs": [
    {
     "name": "stdout",
     "output_type": "stream",
     "text": [
      "PFN_best_baseline\n",
      "PFN_best_v4\n",
      "PFN_best_v3\n"
     ]
    }
   ],
   "source": [
    "all_models = [f for f in os.listdir(\"../../models/PFN/trained_models\") if \"_best\" in f]\n",
    "print(\"\\n\".join(all_models))"
   ]
  },
  {
   "cell_type": "code",
   "execution_count": 3,
   "id": "a8b27d8c",
   "metadata": {},
   "outputs": [
    {
     "name": "stderr",
     "output_type": "stream",
     "text": [
      "/u/avroy/.conda/envs/toptagger_env/lib/python3.9/site-packages/torch/utils/data/dataloader.py:487: UserWarning: This DataLoader will create 30 worker processes in total. Our suggested max number of worker in current system is 4, which is smaller than what this DataLoader is going to create. Please be aware that excessive worker creation might get DataLoader running slow or even freeze, lower the worker number to avoid potential slowness/freeze if necessary.\n",
      "  warnings.warn(_create_warning_msg(\n"
     ]
    }
   ],
   "source": [
    "test_path = \"../../datasets/test.h5\"\n",
    "\n",
    "#Loading testing dataset\n",
    "test_set = PFNDataset(test_path, preprocessed=True)\n",
    "testloader = DataLoader(test_set, shuffle=True, batch_size=512, num_workers=4, pin_memory=True, persistent_workers=True)"
   ]
  },
  {
   "cell_type": "code",
   "execution_count": 4,
   "id": "c06588a1",
   "metadata": {},
   "outputs": [],
   "source": [
    "def eval2(model):\n",
    "    labels = []\n",
    "    preds = []\n",
    "    with torch.no_grad():\n",
    "        for x,m,y,_ in tqdm(testloader):\n",
    "            x = x.cuda()\n",
    "            m = m.cuda()\n",
    "            pred = model(x, m)\n",
    "            labels.append(y[:,1].cpu().numpy())\n",
    "            preds.append(pred[:,1].cpu().numpy())\n",
    "    labels = np.concatenate(labels, axis=None)\n",
    "    preds = np.concatenate(preds, axis=None)\n",
    "    return labels, preds"
   ]
  },
  {
   "cell_type": "code",
   "execution_count": 5,
   "id": "122fadb1",
   "metadata": {},
   "outputs": [
    {
     "name": "stdout",
     "output_type": "stream",
     "text": [
      "[100, 100, 256] [100, 100, 100]\n"
     ]
    },
    {
     "name": "stderr",
     "output_type": "stream",
     "text": [
      "100%|██████████| 790/790 [00:25<00:00, 30.53it/s] \n"
     ]
    },
    {
     "data": {
      "image/png": "[encoded data removed]",
      "text/plain": [
       "<Figure size 432x288 with 1 Axes>"
      ]
     },
     "metadata": {
      "needs_background": "light"
     },
     "output_type": "display_data"
    },
    {
     "name": "stdout",
     "output_type": "stream",
     "text": [
      "PFN_best_baseline \t\t Params: 82458\t ROC-AUC: 97.98%, Accuracy: 92.84%, BRR: 698.66\n",
      "[100, 64, 32] [64, 100, 100]\n"
     ]
    },
    {
     "name": "stderr",
     "output_type": "stream",
     "text": [
      "100%|██████████| 790/790 [00:03<00:00, 249.12it/s]\n"
     ]
    },
    {
     "name": "stdout",
     "output_type": "stream",
     "text": [
      "PFN_best_v4 \t\t Params: 27858\t ROC-AUC: 97.78%, Accuracy: 92.42%, BRR: 602.73\n",
      "[100, 100, 64] [64, 100, 100]\n"
     ]
    },
    {
     "name": "stderr",
     "output_type": "stream",
     "text": [
      "100%|██████████| 790/790 [00:03<00:00, 239.78it/s]\n"
     ]
    },
    {
     "name": "stdout",
     "output_type": "stream",
     "text": [
      "PFN_best_v3 \t\t Params: 37926\t ROC-AUC: 97.83%, Accuracy: 92.54%, BRR: 653.44\n"
     ]
    }
   ],
   "source": [
    "for modelname in all_models:\n",
    "    model_dict = json.load(open(\"../../models/PFN/trained_model_dicts/\" + modelname.replace(\"_best\",\"\") + \".json\"))\n",
    "    label = model_dict['label']\n",
    "    f_nodes = list(map(int, model_dict['f_nodes'].split(',')))\n",
    "    phi_nodes = list(map(int, model_dict['phi_nodes'].split(',')))\n",
    "\n",
    "    model = Model(input_dims=3, Phi_sizes=phi_nodes, F_sizes=f_nodes).cuda()\n",
    "    model.load_state_dict(torch.load(\"../../models/PFN/trained_models/\" + modelname ))\n",
    "    nparams = sum(p.numel() for p in model.parameters())\n",
    "    \n",
    "    FcLayers = []\n",
    "    PhiLayers = []\n",
    "    for layer in model._modules['fc']:\n",
    "        FcLayers.append(layer)\n",
    "    for layer in model._modules['phi']:\n",
    "        PhiLayers.append(layer)\n",
    "    \n",
    "    \n",
    "    labels, preds = eval2(model)\n",
    "    accuracy = accuracy_score(labels, preds.round())*100\n",
    "    \n",
    "    auc = roc_auc_score(labels, preds)*100\n",
    "    \n",
    "    fpr, tpr, thresholds = roc_curve(labels, preds, drop_intermediate=False)\n",
    "    intrp = interpolate.interp1d(tpr, fpr)\n",
    "    if 'baseline' in modelname:\n",
    "        eS = np.array(list(range(1,20)))*0.05\n",
    "        inveB = []\n",
    "        for es in eS:\n",
    "            inveB.append(1./intrp(es))\n",
    "        plt.figure()\n",
    "        plt.plot(eS, inveB)\n",
    "        plt.yscale(\"log\")\n",
    "        plt.show()\n",
    "    brr = 1./intrp(0.3)\n",
    "    print(\"{} \\t\\t Params: {}\\t ROC-AUC: {:.2f}%, Accuracy: {:.2f}%, BRR: {:.2f}\".format(modelname,nparams,auc,accuracy,brr))"
   ]
  }
 ],
 "metadata": {
  "kernelspec": {
   "display_name": "Python [conda env:.conda-toptagger_env]",
   "language": "python",
   "name": "conda-env-.conda-toptagger_env-py"
  },
  "language_info": {
   "codemirror_mode": {
    "name": "ipython",
    "version": 3
   },
   "file_extension": ".py",
   "mimetype": "text/x-python",
   "name": "python",
   "nbconvert_exporter": "python",
   "pygments_lexer": "ipython3",
   "version": "3.9.12"
  }
 },
 "nbformat": 4,
 "nbformat_minor": 5
}
