{
 "cells": [
  {
   "cell_type": "code",
   "execution_count": 2,
   "id": "b7785e7a",
   "metadata": {},
   "outputs": [],
   "source": [
    "import sys\n",
    "sys.path.append(\"../../models/PFN\")\n",
    "from dataset_pfn import PFNDataset\n",
    "import numpy as np\n",
    "from tqdm import tqdm\n",
    "import torch\n",
    "from torch.utils.data import DataLoader\n",
    "from pfn_model import ParticleFlowNetwork as Model\n",
    "import sklearn\n",
    "from sklearn.metrics import roc_auc_score, accuracy_score\n",
    "import os, json"
   ]
  },
  {
   "cell_type": "code",
   "execution_count": 4,
   "id": "6fbab605",
   "metadata": {},
   "outputs": [
    {
     "name": "stdout",
     "output_type": "stream",
     "text": [
      "PFN_best_latent_128\n",
      "PFN_best_modified_v7\n",
      "PFN_best_modified_v4\n",
      "PFN_best_latent_64\n",
      "PFN_best\n"
     ]
    }
   ],
   "source": [
    "all_models = [f for f in os.listdir(\"../../models/PFN/trained_models\") if \"_best\" in f]\n",
    "print(\"\\n\".join(all_models))"
   ]
  },
  {
   "cell_type": "code",
   "execution_count": 8,
   "id": "a8b27d8c",
   "metadata": {},
   "outputs": [],
   "source": [
    "test_path = \"../../datasets/test.h5\"\n",
    "\n",
    "#Loading testing dataset\n",
    "test_set = PFNDataset(test_path, preprocessed=True)\n",
    "testloader = DataLoader(test_set, shuffle=False, batch_size=500, num_workers=30, pin_memory=True, persistent_workers=True)"
   ]
  },
  {
   "cell_type": "code",
   "execution_count": 11,
   "id": "c06588a1",
   "metadata": {},
   "outputs": [],
   "source": [
    "def eval2(model):\n",
    "    labels = []\n",
    "    preds = []\n",
    "    with torch.no_grad():\n",
    "        for x,m,y,_ in tqdm(testloader):\n",
    "            x = x.cuda()\n",
    "            m = m.cuda()\n",
    "            pred = model(x, m)\n",
    "            labels.append(y[:,1].cpu().numpy())\n",
    "            preds.append(pred[:,1].cpu().numpy())\n",
    "    labels = np.concatenate(labels, axis=None)\n",
    "    preds = np.concatenate(preds, axis=None)\n",
    "    return labels, preds"
   ]
  },
  {
   "cell_type": "code",
   "execution_count": 12,
   "id": "122fadb1",
   "metadata": {},
   "outputs": [
    {
     "name": "stderr",
     "output_type": "stream",
     "text": [
      "100%|███████████████████████████████████████████████████████████████████████████████████████████████████████████████████████████████| 808/808 [00:08<00:00, 95.18it/s]\n"
     ]
    },
    {
     "name": "stdout",
     "output_type": "stream",
     "text": [
      "PFN_best_latent_128 \t ROC-AUC: 99.7206% Accuracy: 97.5767%\n"
     ]
    },
    {
     "name": "stderr",
     "output_type": "stream",
     "text": [
      "100%|██████████████████████████████████████████████████████████████████████████████████████████████████████████████████████████████| 808/808 [00:02<00:00, 384.66it/s]\n"
     ]
    },
    {
     "name": "stdout",
     "output_type": "stream",
     "text": [
      "PFN_best_modified_v7 \t ROC-AUC: 99.4146% Accuracy: 96.8923%\n"
     ]
    },
    {
     "name": "stderr",
     "output_type": "stream",
     "text": [
      "100%|██████████████████████████████████████████████████████████████████████████████████████████████████████████████████████████████| 808/808 [00:01<00:00, 405.01it/s]\n"
     ]
    },
    {
     "name": "stdout",
     "output_type": "stream",
     "text": [
      "PFN_best_modified_v4 \t ROC-AUC: 99.1424% Accuracy: 96.2740%\n"
     ]
    },
    {
     "name": "stderr",
     "output_type": "stream",
     "text": [
      "100%|██████████████████████████████████████████████████████████████████████████████████████████████████████████████████████████████| 808/808 [00:02<00:00, 399.82it/s]\n"
     ]
    },
    {
     "name": "stdout",
     "output_type": "stream",
     "text": [
      "PFN_best_latent_64 \t ROC-AUC: 99.4225% Accuracy: 97.1037%\n"
     ]
    },
    {
     "name": "stderr",
     "output_type": "stream",
     "text": [
      "100%|██████████████████████████████████████████████████████████████████████████████████████████████████████████████████████████████| 808/808 [00:02<00:00, 397.02it/s]\n"
     ]
    },
    {
     "name": "stdout",
     "output_type": "stream",
     "text": [
      "PFN_best \t ROC-AUC: 99.7162% Accuracy: 97.7178%\n"
     ]
    }
   ],
   "source": [
    "#loading model\n",
    "for modelname in all_models:\n",
    "    model_dict = json.load(open(\"../../models/PFN/trained_model_dicts/\" + modelname.replace(\"_best\",\"\") + \".json\"))\n",
    "    #print(modelname, model_dict)\n",
    "    label = model_dict['label']\n",
    "    f_nodes = list(map(int, model_dict['f_nodes'].split(',')))\n",
    "    phi_nodes = list(map(int, model_dict['phi_nodes'].split(',')))\n",
    "\n",
    "    model = Model(input_dims=3, Phi_sizes=phi_nodes, F_sizes=f_nodes).cuda()\n",
    "    model.load_state_dict(torch.load(\"../../models/PFN/trained_models/\" + modelname ))\n",
    "    labels, preds = eval2(model)\n",
    "    accuracy = accuracy_score(labels, preds.round())*100\n",
    "    auc = roc_auc_score(labels, preds)*100\n",
    "    print(modelname, \"\\t\", \"ROC-AUC: {:.4f}% Accuracy: {:.4f}%\".format(auc, accuracy))"
   ]
  }
 ],
 "metadata": {
  "kernelspec": {
   "display_name": "Python 3 (ipykernel)",
   "language": "python",
   "name": "python3"
  },
  "language_info": {
   "codemirror_mode": {
    "name": "ipython",
    "version": 3
   },
   "file_extension": ".py",
   "mimetype": "text/x-python",
   "name": "python",
   "nbconvert_exporter": "python",
   "pygments_lexer": "ipython3",
   "version": "3.9.12"
  }
 },
 "nbformat": 4,
 "nbformat_minor": 5
}
