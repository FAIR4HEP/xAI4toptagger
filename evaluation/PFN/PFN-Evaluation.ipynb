{
 "cells": [
  {
   "cell_type": "code",
   "execution_count": 77,
   "id": "b7785e7a",
   "metadata": {},
   "outputs": [
    {
     "name": "stdout",
     "output_type": "stream",
     "text": [
      "env: HDF5_USE_FILE_LOCKING=FALSE\n"
     ]
    }
   ],
   "source": [
    "import sys\n",
    "sys.path.append(\"../../models/PFN\")\n",
    "from dataset_pfn import PFNDataset\n",
    "import numpy as np\n",
    "from tqdm import tqdm\n",
    "import torch\n",
    "from torch.utils.data import DataLoader\n",
    "from pfn_model import ParticleFlowNetwork as Model\n",
    "import sklearn\n",
    "from sklearn.metrics import roc_auc_score, accuracy_score, roc_curve\n",
    "import os, json\n",
    "from scipy import interpolate\n",
    "%env HDF5_USE_FILE_LOCKING=FALSE"
   ]
  },
  {
   "cell_type": "code",
   "execution_count": 78,
   "id": "6fbab605",
   "metadata": {},
   "outputs": [
    {
     "name": "stdout",
     "output_type": "stream",
     "text": [
      "PFN_best_latent_128\n",
      "PFN_best_modified_v7\n",
      "PFN_best_modified_v4\n",
      "PFN_best_v9\n",
      "PFN_best\n",
      "PFN_best_latent_64\n"
     ]
    }
   ],
   "source": [
    "all_models = [f for f in os.listdir(\"../../models/PFN/trained_models\") if \"_best\" in f and \"_aug\" not in f]\n",
    "print(\"\\n\".join(all_models))"
   ]
  },
  {
   "cell_type": "code",
   "execution_count": 79,
   "id": "a8b27d8c",
   "metadata": {},
   "outputs": [
    {
     "name": "stderr",
     "output_type": "stream",
     "text": [
      "/u/avroy/.conda/envs/toptagger_env/lib/python3.9/site-packages/torch/utils/data/dataloader.py:487: UserWarning: This DataLoader will create 30 worker processes in total. Our suggested max number of worker in current system is 4, which is smaller than what this DataLoader is going to create. Please be aware that excessive worker creation might get DataLoader running slow or even freeze, lower the worker number to avoid potential slowness/freeze if necessary.\n",
      "  warnings.warn(_create_warning_msg(\n"
     ]
    }
   ],
   "source": [
    "test_path = \"../../datasets/test.h5\"\n",
    "\n",
    "#Loading testing dataset\n",
    "test_set = PFNDataset(test_path, preprocessed=True)\n",
    "testloader = DataLoader(test_set, shuffle=True, batch_size=500, num_workers=30, pin_memory=True, persistent_workers=True)"
   ]
  },
  {
   "cell_type": "code",
   "execution_count": 80,
   "id": "c06588a1",
   "metadata": {},
   "outputs": [],
   "source": [
    "def eval2(model):\n",
    "    labels = []\n",
    "    preds = []\n",
    "    with torch.no_grad():\n",
    "        for x,m,y,_ in tqdm(testloader):\n",
    "            x = x.cuda()\n",
    "            m = m.cuda()\n",
    "            pred = model(x, m)\n",
    "            labels.append(y[:,0].cpu().numpy())\n",
    "            preds.append(pred[:,0].cpu().numpy())\n",
    "    labels = np.concatenate(labels, axis=None)\n",
    "    preds = np.concatenate(preds, axis=None)\n",
    "    return labels, preds"
   ]
  },
  {
   "cell_type": "code",
   "execution_count": 81,
   "id": "122fadb1",
   "metadata": {},
   "outputs": [
    {
     "name": "stdout",
     "output_type": "stream",
     "text": [
      "[100, 100, 128] [100, 100, 100]\n"
     ]
    },
    {
     "name": "stderr",
     "output_type": "stream",
     "text": [
      "100%|██████████| 808/808 [00:05<00:00, 157.08it/s]\n"
     ]
    },
    {
     "name": "stdout",
     "output_type": "stream",
     "text": [
      "PFN_best_latent_128 \t\t Params: 56730\t ROC-AUC: 99.74%, Accuracy: 97.58%, BRR: 33652.33\n",
      "[100, 64, 64] [64, 32]\n"
     ]
    },
    {
     "name": "stderr",
     "output_type": "stream",
     "text": [
      "100%|██████████| 808/808 [00:03<00:00, 269.24it/s]\n"
     ]
    },
    {
     "name": "stdout",
     "output_type": "stream",
     "text": [
      "PFN_best_modified_v7 \t\t Params: 17330\t ROC-AUC: 99.45%, Accuracy: 96.89%, BRR: 1373.56\n",
      "[100, 64, 64] [32, 32]\n"
     ]
    },
    {
     "name": "stderr",
     "output_type": "stream",
     "text": [
      "100%|██████████| 808/808 [00:03<00:00, 266.19it/s]\n"
     ]
    },
    {
     "name": "stdout",
     "output_type": "stream",
     "text": [
      "PFN_best_modified_v4 \t\t Params: 14226\t ROC-AUC: 99.16%, Accuracy: 96.27%, BRR: 528.57\n",
      "[100, 100, 64] [64, 64]\n"
     ]
    },
    {
     "name": "stderr",
     "output_type": "stream",
     "text": [
      "100%|██████████| 808/808 [00:03<00:00, 263.82it/s]\n"
     ]
    },
    {
     "name": "stdout",
     "output_type": "stream",
     "text": [
      "PFN_best_v9 \t\t Params: 25414\t ROC-AUC: 99.50%, Accuracy: 97.19%, BRR: 2060.35\n",
      "[100, 100, 256] [100, 100, 100]\n"
     ]
    },
    {
     "name": "stderr",
     "output_type": "stream",
     "text": [
      "100%|██████████| 808/808 [00:03<00:00, 210.44it/s]\n"
     ]
    },
    {
     "name": "stdout",
     "output_type": "stream",
     "text": [
      "PFN_best \t\t Params: 82458\t ROC-AUC: 99.74%, Accuracy: 97.72%, BRR: 8778.87\n",
      "[100, 100, 64] [100, 100, 100]\n"
     ]
    },
    {
     "name": "stderr",
     "output_type": "stream",
     "text": [
      "100%|██████████| 808/808 [00:03<00:00, 251.74it/s]\n"
     ]
    },
    {
     "name": "stdout",
     "output_type": "stream",
     "text": [
      "PFN_best_latent_64 \t\t Params: 43866\t ROC-AUC: 99.48%, Accuracy: 97.10%, BRR: 1696.76\n"
     ]
    }
   ],
   "source": [
    "#loading model\n",
    "for modelname in all_models:\n",
    "    model_dict = json.load(open(\"../../models/PFN/trained_model_dicts/\" + modelname.replace(\"_best\",\"\") + \".json\"))\n",
    "    #print(modelname, model_dict)\n",
    "    label = model_dict['label']\n",
    "    f_nodes = list(map(int, model_dict['f_nodes'].split(',')))\n",
    "    phi_nodes = list(map(int, model_dict['phi_nodes'].split(',')))\n",
    "\n",
    "    model = Model(input_dims=3, Phi_sizes=phi_nodes, F_sizes=f_nodes).cuda()\n",
    "    model.load_state_dict(torch.load(\"../../models/PFN/trained_models/\" + modelname ))\n",
    "    nparams = sum(p.numel() for p in model.parameters())\n",
    "    \n",
    "    FcLayers = []\n",
    "    PhiLayers = []\n",
    "    for layer in model._modules['fc']:\n",
    "        #print(layer)\n",
    "        FcLayers.append(layer)\n",
    "    #print('\\n')\n",
    "    for layer in model._modules['phi']:\n",
    "        #print(layer)\n",
    "        PhiLayers.append(layer)\n",
    "    \n",
    "    \n",
    "    labels, preds = eval2(model)\n",
    "    accuracy = accuracy_score(labels, preds.round())*100\n",
    "    \n",
    "    auc = roc_auc_score(labels, preds)*100\n",
    "    \n",
    "    fpr, tpr, thresholds = roc_curve(labels, preds, drop_intermediate=False)\n",
    "    intrp = interpolate.interp1d(fpr, tpr)\n",
    "    brr = 1./(1- intrp(0.7))\n",
    "    print(\"{} \\t\\t Params: {}\\t ROC-AUC: {:.2f}%, Accuracy: {:.2f}%, BRR: {:.2f}\".format(modelname,nparams,auc,accuracy,brr))\n",
    "    #print(modelname, \"\\t\", \"ROC-AUC: {:.4f}% Accuracy: {:.4f}%\".format(auc, accuracy))"
   ]
  }
 ],
 "metadata": {
  "kernelspec": {
   "display_name": "Python [conda env:.conda-toptagger_env]",
   "language": "python",
   "name": "conda-env-.conda-toptagger_env-py"
  },
  "language_info": {
   "codemirror_mode": {
    "name": "ipython",
    "version": 3
   },
   "file_extension": ".py",
   "mimetype": "text/x-python",
   "name": "python",
   "nbconvert_exporter": "python",
   "pygments_lexer": "ipython3",
   "version": "3.9.12"
  }
 },
 "nbformat": 4,
 "nbformat_minor": 5
}
