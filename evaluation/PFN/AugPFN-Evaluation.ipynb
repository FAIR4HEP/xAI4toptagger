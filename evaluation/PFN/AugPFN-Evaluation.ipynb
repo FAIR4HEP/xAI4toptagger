{
 "cells": [
  {
   "cell_type": "code",
   "execution_count": 1,
   "id": "b7785e7a",
   "metadata": {},
   "outputs": [
    {
     "name": "stdout",
     "output_type": "stream",
     "text": [
      "env: HDF5_USE_FILE_LOCKING=FALSE\n"
     ]
    }
   ],
   "source": [
    "import sys, os\n",
    "sys.path.append(\"../../models/PFN\")\n",
    "sys.path.append(os.path.abspath('../../fastjet-install/lib/python3.9/site-packages'))\n",
    "from dataset_pfn import PFNDataset, processed2tau\n",
    "import numpy as np\n",
    "from tqdm import tqdm\n",
    "import torch\n",
    "from torch.utils.data import DataLoader\n",
    "from augmented_pfn_model import AugParticleFlowNetwork as Model\n",
    "import sklearn\n",
    "from sklearn.metrics import roc_auc_score, accuracy_score, roc_curve\n",
    "import json\n",
    "from scipy import interpolate\n",
    "from matplotlib import pyplot as plt\n",
    "%env HDF5_USE_FILE_LOCKING=FALSE"
   ]
  },
  {
   "cell_type": "code",
   "execution_count": 2,
   "id": "6fbab605",
   "metadata": {},
   "outputs": [
    {
     "name": "stdout",
     "output_type": "stream",
     "text": [
      "PFN_best_v3_aug\n",
      "PFN_best_baseline4_aug\n",
      "PFN_best_v4_aug\n"
     ]
    }
   ],
   "source": [
    "all_models = [f for f in os.listdir(\"../../models/PFN/trained_models\") if \"_best\" in f and \"_aug\" in f]\n",
    "print(\"\\n\".join(all_models))"
   ]
  },
  {
   "cell_type": "code",
   "execution_count": 3,
   "id": "a8b27d8c",
   "metadata": {},
   "outputs": [],
   "source": [
    "test_path = \"../../datasets/test.h5\"\n",
    "\n",
    "#Loading testing dataset\n",
    "test_set = PFNDataset(test_path, preprocessed=True)\n",
    "testloader = DataLoader(test_set, shuffle=True, batch_size=500, num_workers=4, pin_memory=True, persistent_workers=True)"
   ]
  },
  {
   "cell_type": "code",
   "execution_count": 4,
   "id": "c06588a1",
   "metadata": {},
   "outputs": [],
   "source": [
    "def eval2(model):\n",
    "    labels = []\n",
    "    preds = []\n",
    "    with torch.no_grad():\n",
    "        for x,m,y,_ in tqdm(testloader):\n",
    "            x = x.cuda()\n",
    "            m = m.cuda()\n",
    "            pred = model(x, m)\n",
    "            labels.append(y[:,1].cpu().numpy())\n",
    "            preds.append(pred[:,1].cpu().numpy())\n",
    "    labels = np.concatenate(labels, axis=None)\n",
    "    preds = np.concatenate(preds, axis=None)\n",
    "    return labels, preds"
   ]
  },
  {
   "cell_type": "code",
   "execution_count": 5,
   "id": "53572cd5-cb18-4f9e-bee9-112576f4a75c",
   "metadata": {},
   "outputs": [],
   "source": [
    "def evalFC(model, data, mask_indices = [-1], mask_values = [0.]):\n",
    "    lfs = data.cuda()\n",
    "    for mask_index, mask_value in zip(mask_indices, mask_values):\n",
    "        if mask_index >= 0:\n",
    "            lfs[:, mask_index] = mask_value*torch.ones(lfs[:, mask_index].shape)  \n",
    "    for ii, layer in enumerate(FcLayers):\n",
    "        if ii == len(FcLayers)-1: \n",
    "            res = layer.forward(lfs).cpu()\n",
    "        elif ii == len(FcLayers)-2:\n",
    "            lfs = layer.forward(lfs)\n",
    "            psmax = lfs.cpu()\n",
    "        else:\n",
    "            lfs = layer.forward(lfs)\n",
    "    return psmax, res\n",
    "\n",
    "def evalPHI(model, test_set, d_mean = [], mask_indices = []):\n",
    "    myDL = DataLoader(test_set, batch_size=1024)\n",
    "    with torch.no_grad():\n",
    "        for idx, (d, m, l, ad) in enumerate(myDL):\n",
    "            # for mask_index in mask_indices:\n",
    "            #     try:\n",
    "            #         d[:, mask_index[0], mask_index[1]] = d_mean[mask_index[0], mask_index[1]]\n",
    "            #     except:\n",
    "            #         d[:, mask_index[0], mask_index[1]] = d_mean[mask_index[1]]\n",
    "            d2 = torch.flatten(d, start_dim=0, end_dim=1)\n",
    "            lfs = model._modules['phi'].forward(d2.cuda())\n",
    "            lfs = torch.stack(torch.split(lfs.permute(1, 0), 200, dim=1), 0)\n",
    "            lfs = lfs * m.cuda().bool().float()\n",
    "            lfs = lfs.sum(-1)\n",
    "            this_lfs = lfs.cpu()\n",
    "            this_taus = processed2tau(d,ad)\n",
    "            psmax, res = evalFC(model, \n",
    "                                torch.cat((lfs, this_taus.cuda()[:,:7]),1).float())\n",
    "            # res = model._modules['fc'].forward(lfs)\n",
    "            if idx == 0:\n",
    "                latents = this_lfs.cpu()\n",
    "                labels = l.cpu()\n",
    "                presoftmax = psmax.cpu()\n",
    "                preds = res.cpu()\n",
    "                aug_data = ad.cpu()\n",
    "                taus = this_taus.cpu()\n",
    "            else:\n",
    "                latents = torch.cat((latents, this_lfs.cpu()), 0)\n",
    "                labels = torch.cat((labels, l.cpu()), 0)\n",
    "                presoftmax  = torch.cat((presoftmax, psmax.cpu()), 0)\n",
    "                preds  = torch.cat((preds, res.cpu()), 0)\n",
    "                aug_data = torch.cat((aug_data, ad.cpu()), 0)\n",
    "                taus = torch.cat((taus, this_taus.cpu()), 0)\n",
    "            if idx == 1000:\n",
    "                break\n",
    "    return latents, labels, presoftmax, preds, aug_data, taus\n"
   ]
  },
  {
   "cell_type": "code",
   "execution_count": 7,
   "id": "122fadb1",
   "metadata": {},
   "outputs": [
    {
     "name": "stdout",
     "output_type": "stream",
     "text": [
      "[100, 100, 64] [64, 100, 100]\n",
      "PFN_best_v3_aug \t\t Params: 38374\t ROC-AUC: 97.93%, Accuracy: 92.79%, BRR: 664.19\n",
      "[100, 100, 256] [100, 100, 100]\n"
     ]
    },
    {
     "data": {
      "image/png": "[encoded data removed]",
      "text/plain": [
       "<Figure size 432x288 with 1 Axes>"
      ]
     },
     "metadata": {
      "needs_background": "light"
     },
     "output_type": "display_data"
    },
    {
     "name": "stdout",
     "output_type": "stream",
     "text": [
      "PFN_best_baseline4_aug \t\t Params: 83158\t ROC-AUC: 98.00%, Accuracy: 92.89%, BRR: 710.96\n",
      "[100, 100, 32] [64, 100, 100]\n",
      "PFN_best_v4_aug \t\t Params: 33094\t ROC-AUC: 97.86%, Accuracy: 92.66%, BRR: 613.72\n"
     ]
    },
    {
     "name": "stderr",
     "output_type": "stream",
     "text": [
      "Closing remaining open files:../../datasets/test.h5..."
     ]
    }
   ],
   "source": [
    "#loading model\n",
    "#all_models = ['PFN_best_v9_augmented']\n",
    "for modelname in all_models:\n",
    "    model_dict = json.load(open(\"../../models/PFN/trained_model_dicts/\" + modelname.replace(\"_best\",\"\").replace(\"baseline4\", \"baseline\") + \".json\"))\n",
    "    #print(modelname, model_dict)\n",
    "    label = model_dict['label']\n",
    "    f_nodes = list(map(int, model_dict['f_nodes'].split(',')))\n",
    "    phi_nodes = list(map(int, model_dict['phi_nodes'].split(',')))\n",
    "\n",
    "    model = Model(input_dims=3, Phi_sizes=phi_nodes, F_sizes=f_nodes).cuda()\n",
    "    model.load_state_dict(torch.load(\"../../models/PFN/trained_models/\" + modelname ))\n",
    "    nparams = sum(p.numel() for p in model.parameters())\n",
    "    \n",
    "    FcLayers = []\n",
    "    PhiLayers = []\n",
    "    for layer in model._modules['fc']:\n",
    "        #print(layer)\n",
    "        FcLayers.append(layer)\n",
    "    #print('\\n')\n",
    "    for layer in model._modules['phi']:\n",
    "        #print(layer)\n",
    "        PhiLayers.append(layer)\n",
    "    \n",
    "    _, labels, _, preds, _, _ = evalPHI(model, test_set, d_mean = [], mask_indices = [])\n",
    "    labels = labels[:,1]\n",
    "    preds = preds[:,1]\n",
    "    #labels, preds = eval2(model)\n",
    "    accuracy = accuracy_score(labels, preds.round())*100\n",
    "    \n",
    "    auc = roc_auc_score(labels, preds)*100\n",
    "    \n",
    "    fpr, tpr, thresholds = roc_curve(labels, preds, drop_intermediate=False)\n",
    "    intrp = interpolate.interp1d(tpr, fpr)\n",
    "    if 'baseline' in modelname:\n",
    "        eS = np.array(list(range(1,20)))*0.05\n",
    "        inveB = []\n",
    "        for es in eS:\n",
    "            inveB.append(1./intrp(es))\n",
    "        plt.figure()\n",
    "        plt.plot(eS, inveB)\n",
    "        plt.yscale(\"log\")\n",
    "        plt.show()\n",
    "    brr = 1./intrp(0.3)\n",
    "    print(\"{} \\t\\t Params: {}\\t ROC-AUC: {:.2f}%, Accuracy: {:.2f}%, BRR: {:.2f}\".format(modelname,nparams,auc,accuracy,brr))\n",
    "    #print(modelname, \"\\t\", \"ROC-AUC: {:.4f}% Accuracy: {:.4f}%\".format(auc, accuracy))"
   ]
  }
 ],
 "metadata": {
  "kernelspec": {
   "display_name": "Python [conda env:.conda-toptagger_env]",
   "language": "python",
   "name": "conda-env-.conda-toptagger_env-py"
  },
  "language_info": {
   "codemirror_mode": {
    "name": "ipython",
    "version": 3
   },
   "file_extension": ".py",
   "mimetype": "text/x-python",
   "name": "python",
   "nbconvert_exporter": "python",
   "pygments_lexer": "ipython3",
   "version": "3.9.12"
  }
 },
 "nbformat": 4,
 "nbformat_minor": 5
}
