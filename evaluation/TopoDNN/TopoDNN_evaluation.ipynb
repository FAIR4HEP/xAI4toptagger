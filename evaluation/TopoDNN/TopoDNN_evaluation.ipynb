{
 "cells": [
  {
   "cell_type": "code",
   "execution_count": 1,
   "id": "28562814",
   "metadata": {},
   "outputs": [],
   "source": [
    "from keras.models import load_model\n",
    "import pandas as pd\n",
    "import pickle\n",
    "import tensorflow as tf\n",
    "import numpy as np\n",
    "import keras\n",
    "import matplotlib.pyplot as plt\n",
    "import shap\n",
    "import seaborn as sns\n",
    "import os\n",
    "from sklearn.metrics import roc_curve, auc, roc_auc_score, precision_recall_curve, accuracy_score"
   ]
  },
  {
   "cell_type": "code",
   "execution_count": 2,
   "id": "899df1dc",
   "metadata": {},
   "outputs": [
    {
     "name": "stdout",
     "output_type": "stream",
     "text": [
      "topodnnmodel_v3\n",
      "topodnnmodel_v4\n",
      "topodnnmodel_standardize_pt\n",
      "topodnnmodel_30\n",
      "topodnnmodel_v1\n",
      "topodnnmodel_v2\n",
      "topodnnmodel_pt\n",
      "topodnnmodel\n",
      "topodnnmodel_pt0\n"
     ]
    }
   ],
   "source": [
    "## List of models\n",
    "all_models = [f for f in os.listdir(\"../../models/TopoDNN/trained_models/\")]\n",
    "print(\"\\n\".join(all_models))"
   ]
  },
  {
   "cell_type": "code",
   "execution_count": 3,
   "id": "a563343c",
   "metadata": {},
   "outputs": [],
   "source": [
    "def eval(model, mode, df_test):\n",
    "    if mode == '_pt0':\n",
    "        df_test = df_test.loc[:, df_test.columns != 'pt_0']\n",
    "    elif mode == '_pt':\n",
    "        pt_cols = [col for col in df_test.columns if 'pt' in col]\n",
    "        df_test = df_test.drop(pt_cols, axis=1)\n",
    "    elif mode == '_30':\n",
    "        df_test = df_test.iloc[:,:30]\n",
    "    elif mode == '_standardize_pt':\n",
    "        pt_cols = [col for col in df_test.columns if 'pt' in col]\n",
    "        df_test[pt_cols] = (df_test[pt_cols] - df_test[pt_cols].mean())/df_test[pt_cols].std()\n",
    "    feats = np.array(df_test)\n",
    "    data = np.copy(feats)\n",
    "    return model(data)"
   ]
  },
  {
   "cell_type": "code",
   "execution_count": 7,
   "id": "ef801e5f",
   "metadata": {},
   "outputs": [
    {
     "name": "stdout",
     "output_type": "stream",
     "text": [
      "topodnnmodel_v3 \t ROC-AUC: 97.1243%, Accuracy: 91.5488%\n",
      "topodnnmodel_v4 \t ROC-AUC: 97.1985%, Accuracy: 91.6295%\n",
      "topodnnmodel_standardize_pt \t ROC-AUC: 97.1045%, Accuracy: 91.5114%\n",
      "topodnnmodel_30 \t ROC-AUC: 96.2256%, Accuracy: 89.4649%\n",
      "topodnnmodel_v1 \t ROC-AUC: 97.1514%, Accuracy: 91.5614%\n",
      "topodnnmodel_v2 \t ROC-AUC: 97.1655%, Accuracy: 91.6267%\n",
      "topodnnmodel_pt \t ROC-AUC: 95.8363%, Accuracy: 89.6710%\n",
      "WARNING:tensorflow:SavedModel saved prior to TF 2.5 detected when loading Keras model. Please ensure that you are saving the model with model.save() or tf.keras.models.save_model(), *NOT* tf.saved_model.save(). To confirm, there should be a file named \"keras_metadata.pb\" in the SavedModel directory.\n",
      "topodnnmodel \t ROC-AUC: 97.1203%, Accuracy: 91.5547%\n",
      "topodnnmodel_pt0 \t ROC-AUC: 97.0128%, Accuracy: 91.4228%\n"
     ]
    }
   ],
   "source": [
    "for model_name in all_models:\n",
    "    #Loading data\n",
    "    df_test = pd.read_pickle(\"../../datasets/topoprocessed/test.pkl\")\n",
    "    labels = np.array(df_test.loc[:,df_test.columns == 'is_signal_new']).reshape(-1)\n",
    "    df_test = df_test.loc[:,df_test.columns != 'is_signal_new']\n",
    "    mode = model_name.replace('topodnnmodel', '')\n",
    "    #Load model\n",
    "    model = load_model(\"../../models/TopoDNN/trained_models/\"+model_name)\n",
    "    results = np.array(eval(model, mode, df_test)).flatten()\n",
    "    auc = roc_auc_score(labels, results)*100\n",
    "    results[results >= 0.5] = 1\n",
    "    results[results < 0.5] = 0\n",
    "    acc = accuracy_score(labels, results)*100\n",
    "    print(\"{} \\t ROC-AUC: {:.4f}%, Accuracy: {:.4f}%\".format(model_name,auc,acc))"
   ]
  }
 ],
 "metadata": {
  "kernelspec": {
   "display_name": "Python 3 (ipykernel)",
   "language": "python",
   "name": "python3"
  },
  "language_info": {
   "codemirror_mode": {
    "name": "ipython",
    "version": 3
   },
   "file_extension": ".py",
   "mimetype": "text/x-python",
   "name": "python",
   "nbconvert_exporter": "python",
   "pygments_lexer": "ipython3",
   "version": "3.9.12"
  }
 },
 "nbformat": 4,
 "nbformat_minor": 5
}
