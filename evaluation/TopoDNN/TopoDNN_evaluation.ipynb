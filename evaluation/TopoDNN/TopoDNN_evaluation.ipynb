{
 "cells": [
  {
   "cell_type": "code",
   "execution_count": 1,
   "id": "28562814",
   "metadata": {},
   "outputs": [
    {
     "name": "stderr",
     "output_type": "stream",
     "text": [
      "2022-12-06 11:08:28.146333: I tensorflow/core/platform/cpu_feature_guard.cc:193] This TensorFlow binary is optimized with oneAPI Deep Neural Network Library (oneDNN) to use the following CPU instructions in performance-critical operations:  AVX2 FMA\n",
      "To enable them in other operations, rebuild TensorFlow with the appropriate compiler flags.\n",
      "2022-12-06 11:08:29.262036: W tensorflow/compiler/xla/stream_executor/platform/default/dso_loader.cc:64] Could not load dynamic library 'libnvinfer.so.7'; dlerror: libnvinfer.so.7: cannot open shared object file: No such file or directory; LD_LIBRARY_PATH: /sw/external/libraries/cudnn-linux-x86_64-8.4.1.50_cuda11.6-archive/lib:/sw/spack/delta-2022-03/apps/cuda/11.6.1-gcc-11.2.0-vglutoe/extras/CUPTI/lib64:/sw/spack/delta-2022-03/apps/cuda/11.6.1-gcc-11.2.0-vglutoe/lib64:/sw/spack/delta-2022-03/apps/openmpi/4.1.2-gcc-11.2.0-37px7gc/lib:/sw/spack/delta-2022-03/apps/ucx/1.11.2-gcc-11.2.0-pymppfm/lib:/sw/spack/delta-2022-03/apps/gcc/11.2.0-gcc-8.4.1-fxgnsyr/lib64:/sw/spack/delta-2022-03/apps/gcc/11.2.0-gcc-8.4.1-fxgnsyr/lib\n",
      "2022-12-06 11:08:29.262106: W tensorflow/compiler/xla/stream_executor/platform/default/dso_loader.cc:64] Could not load dynamic library 'libnvinfer_plugin.so.7'; dlerror: libnvinfer_plugin.so.7: cannot open shared object file: No such file or directory; LD_LIBRARY_PATH: /sw/external/libraries/cudnn-linux-x86_64-8.4.1.50_cuda11.6-archive/lib:/sw/spack/delta-2022-03/apps/cuda/11.6.1-gcc-11.2.0-vglutoe/extras/CUPTI/lib64:/sw/spack/delta-2022-03/apps/cuda/11.6.1-gcc-11.2.0-vglutoe/lib64:/sw/spack/delta-2022-03/apps/openmpi/4.1.2-gcc-11.2.0-37px7gc/lib:/sw/spack/delta-2022-03/apps/ucx/1.11.2-gcc-11.2.0-pymppfm/lib:/sw/spack/delta-2022-03/apps/gcc/11.2.0-gcc-8.4.1-fxgnsyr/lib64:/sw/spack/delta-2022-03/apps/gcc/11.2.0-gcc-8.4.1-fxgnsyr/lib\n",
      "2022-12-06 11:08:29.262112: W tensorflow/compiler/tf2tensorrt/utils/py_utils.cc:38] TF-TRT Warning: Cannot dlopen some TensorRT libraries. If you would like to use Nvidia GPU with TensorRT, please make sure the missing libraries mentioned above are installed properly.\n"
     ]
    }
   ],
   "source": [
    "from keras.models import load_model\n",
    "import pandas as pd\n",
    "import pickle\n",
    "import tensorflow as tf\n",
    "import numpy as np\n",
    "import keras\n",
    "import matplotlib.pyplot as plt\n",
    "import shap\n",
    "import seaborn as sns\n",
    "import os\n",
    "from sklearn.metrics import roc_curve, auc, roc_auc_score, precision_recall_curve, accuracy_score\n",
    "from scipy import interpolate"
   ]
  },
  {
   "cell_type": "code",
   "execution_count": 2,
   "id": "899df1dc",
   "metadata": {},
   "outputs": [
    {
     "name": "stdout",
     "output_type": "stream",
     "text": [
      "topodnnmodel_pt\n",
      "topodnnmodel_pt0\n",
      "topodnnmodel_v3\n",
      "topodnnmodel_standardize_pt\n",
      "topodnnmodel_30\n",
      "topodnnmodel_v1\n",
      "topodnnmodel_v2\n",
      "topodnnmodel_v4\n",
      "topodnnmodel\n"
     ]
    }
   ],
   "source": [
    "## List of models\n",
    "all_models = [f for f in os.listdir(\"../../models/TopoDNN/trained_models/\")]\n",
    "print(\"\\n\".join(all_models))"
   ]
  },
  {
   "cell_type": "code",
   "execution_count": 3,
   "id": "a563343c",
   "metadata": {},
   "outputs": [],
   "source": [
    "def eval(model, mode, df_test):\n",
    "    if mode == '_pt0':\n",
    "        df_test = df_test.loc[:, df_test.columns != 'pt_0']\n",
    "    elif mode == '_pt':\n",
    "        pt_cols = [col for col in df_test.columns if 'pt' in col]\n",
    "        df_test = df_test.drop(pt_cols, axis=1)\n",
    "    elif mode == '_30':\n",
    "        df_test = df_test.iloc[:,:30]\n",
    "    elif mode == '_standardize_pt':\n",
    "        pt_cols = [col for col in df_test.columns if 'pt' in col]\n",
    "        df_test[pt_cols] = (df_test[pt_cols] - df_test[pt_cols].mean())/df_test[pt_cols].std()\n",
    "    feats = np.array(df_test)\n",
    "    data = np.copy(feats)\n",
    "    return model(data)"
   ]
  },
  {
   "cell_type": "code",
   "execution_count": 8,
   "id": "ef801e5f",
   "metadata": {},
   "outputs": [
    {
     "name": "stdout",
     "output_type": "stream",
     "text": [
      "topodnnmodel_pt \t\t Params: 50323\t ROC-AUC: 95.84%, Accuracy: 89.67%, BRR: 125.88\n",
      "topodnnmodel_pt0 \t\t Params: 59023\t ROC-AUC: 97.01%, Accuracy: 91.42%, BRR: 266.73\n",
      "topodnnmodel_v3 \t\t Params: 27737\t ROC-AUC: 97.12%, Accuracy: 91.55%, BRR: 267.44\n",
      "topodnnmodel_standardize_pt \t\t Params: 59323\t ROC-AUC: 97.10%, Accuracy: 91.51%, BRR: 298.69\n",
      "topodnnmodel_30 \t\t Params: 41323\t ROC-AUC: 96.23%, Accuracy: 89.47%, BRR: 278.12\n",
      "topodnnmodel_v1 \t\t Params: 42003\t ROC-AUC: 97.15%, Accuracy: 91.56%, BRR: 309.21\n",
      "topodnnmodel_v2 \t\t Params: 41941\t ROC-AUC: 97.17%, Accuracy: 91.62%, BRR: 300.47\n",
      "topodnnmodel_v4 \t\t Params: 16013\t ROC-AUC: 97.20%, Accuracy: 91.63%, BRR: 304.55\n",
      "WARNING:tensorflow:SavedModel saved prior to TF 2.5 detected when loading Keras model. Please ensure that you are saving the model with model.save() or tf.keras.models.save_model(), *NOT* tf.saved_model.save(). To confirm, there should be a file named \"keras_metadata.pb\" in the SavedModel directory.\n",
      "topodnnmodel \t\t Params: 59323\t ROC-AUC: 97.12%, Accuracy: 91.55%, BRR: 278.12\n"
     ]
    }
   ],
   "source": [
    "for model_name in all_models:\n",
    "    #Loading data\n",
    "    df_test = pd.read_pickle(\"../../datasets/topoprocessed/test.pkl\")\n",
    "    labels = np.array(df_test.loc[:,df_test.columns == 'is_signal_new']).reshape(-1)\n",
    "    df_test = df_test.loc[:,df_test.columns != 'is_signal_new']\n",
    "    mode = model_name.replace('topodnnmodel', '')\n",
    "    #Load model\n",
    "    model = load_model(\"../../models/TopoDNN/trained_models/\"+model_name)\n",
    "    nparams = np.sum([np.prod(v.get_shape()) for v in model.trainable_weights])\n",
    "    results = np.array(eval(model, mode, df_test)).flatten()\n",
    "    \n",
    "    auc = roc_auc_score(labels, results)*100\n",
    "    fpr, tpr, thresholds = roc_curve(labels, results)\n",
    "    intrp = interpolate.interp1d(tpr, fpr)\n",
    "    brr = 1./intrp(0.3)\n",
    "    \n",
    "    results[results >= 0.5] = 1\n",
    "    results[results < 0.5] = 0\n",
    "    acc = accuracy_score(labels, results)*100\n",
    "    print(\"{} \\t\\t Params: {}\\t ROC-AUC: {:.2f}%, Accuracy: {:.2f}%, BRR: {:.2f}\".format(model_name,nparams,auc,acc,brr))"
   ]
  }
 ],
 "metadata": {
  "kernelspec": {
   "display_name": "Python [conda env:.conda-toptagger_env]",
   "language": "python",
   "name": "conda-env-.conda-toptagger_env-py"
  },
  "language_info": {
   "codemirror_mode": {
    "name": "ipython",
    "version": 3
   },
   "file_extension": ".py",
   "mimetype": "text/x-python",
   "name": "python",
   "nbconvert_exporter": "python",
   "pygments_lexer": "ipython3",
   "version": "3.9.12"
  }
 },
 "nbformat": 4,
 "nbformat_minor": 5
}
